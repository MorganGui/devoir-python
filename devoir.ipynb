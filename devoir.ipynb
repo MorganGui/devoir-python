{
 "cells": [
  {
   "cell_type": "markdown",
   "metadata": {},
   "source": [
    "## Scraping [1/2]"
   ]
  },
  {
   "cell_type": "code",
   "execution_count": null,
   "metadata": {},
   "outputs": [],
   "source": [
    "import requests\n",
    "from bs4 import BeautifulSoup\n",
    "\n",
    "# from classes import Episode\n",
    "# episode = Episode()\n",
    "\n",
    "\n",
    "def strToInt(str):\n",
    "  try:\n",
    "    return int(str)\n",
    "  except:\n",
    "    return 0\n",
    "\n",
    "\n",
    "def elementToObject(element, date):\n",
    "  episodeNameElements = element.findAll('a')\n",
    "  seasonAndEpisode = episodeNameElements[1].text.split('.')\n",
    "  channelElement = element.find_previous_sibling('img')\n",
    "  contryElements = channelElement.find_previous_sibling('img')\n",
    "\n",
    "  object = {\n",
    "    'name': episodeNameElements[0].text,\n",
    "    'episode': strToInt(seasonAndEpisode[1]),\n",
    "    'season': strToInt(seasonAndEpisode[0]),\n",
    "    'date': date,\n",
    "    'country': contryElements.get('alt'),\n",
    "    'channel': channelElement.get('alt'),\n",
    "    'url': episodeNameElements[0].get('href')\n",
    "  }\n",
    "  return object\n",
    "\n",
    "\n",
    "url = 'https://www.spin-off.fr/calendrier_des_series.html'\n",
    "response = requests.get(url)\n",
    "content = response.content\n",
    "page = BeautifulSoup(content, 'html')\n",
    "currentMonth = page.find_all('td', class_=['floatleftmobile td_jour', 'floatleftmobile td_jour td_jourcourant'])\n",
    "\n",
    "\n",
    "episodes = []\n",
    "for day in currentMonth:\n",
    "  dateElement = day.find('div', class_=['div_jour', 'div_jourcourant fond_degrade_v4'])\n",
    "  if dateElement:\n",
    "    date = dateElement.get('id').split('_')[1]\n",
    "    episodesElements = day.find_all('span', class_=['calendrier_episodes'])\n",
    "    for episodeElement in episodesElements:\n",
    "      episodes.append(elementToObject(episodeElement, date))\n",
    "\n",
    "print(episodes)"
   ]
  },
  {
   "cell_type": "markdown",
   "metadata": {},
   "source": [
    "## Fichiers"
   ]
  },
  {
   "cell_type": "code",
   "execution_count": null,
   "metadata": {},
   "outputs": [],
   "source": [
    "def objectToStringforCsv(episode):\n",
    "  return f'{episode['name']},{episode['episode']},{episode['season']},{episode['date']},{episode['country']},{episode['channel']},{episode['url']}\\n'\n",
    "\n",
    "strEpisodes = [\n",
    "  objectToStringforCsv(episode)\n",
    "  for episode in episodes\n",
    "]\n",
    "\n",
    "with open('./data/files/episodes.csv', mode='w+', encoding='utf-8') as file:\n",
    "  file.write(''.join(strEpisodes))"
   ]
  },
  {
   "cell_type": "code",
   "execution_count": null,
   "metadata": {},
   "outputs": [],
   "source": [
    "def lineToTuples(line):\n",
    "  values = line.split(',')\n",
    "  print(values)\n",
    "\n",
    "# la method \"arrayToEpisode\" permet de récupérer les données depuis le fichier CSV plutôt que de refaire le scrapping du site.\n",
    "def arrayToEpisode(values):\n",
    "  return {\n",
    "    'name': values[0],\n",
    "    'episode': int(values[1]),\n",
    "    'season': int(values[2]),\n",
    "    'date': values[3],\n",
    "    'country': values[4],\n",
    "    'channel': values[5],\n",
    "    'url': values[6]\n",
    "  }\n",
    "\n",
    "typeTuples = []\n",
    "episodes = []\n",
    "with open('./data/files/episodes.csv', 'r', encoding='utf-8') as file:\n",
    "  for line in file:\n",
    "    types = []\n",
    "    values = line.strip().split(',')\n",
    "    episodes.append(arrayToEpisode(values))\n",
    "    for value in values:\n",
    "      try:\n",
    "        value = int(value)\n",
    "      except:\n",
    "        value = value\n",
    "      types.append(type(value).__name__)\n",
    "    typeTuples.append(tuple(types))\n",
    "\n",
    "print(typeTuples[0])"
   ]
  },
  {
   "cell_type": "markdown",
   "metadata": {},
   "source": [
    "## SQL [1/2]"
   ]
  },
  {
   "cell_type": "code",
   "execution_count": 11,
   "metadata": {},
   "outputs": [],
   "source": [
    "import sqlite3\n",
    "\n",
    "db = sqlite3.connect('./data/databases/database.db')\n",
    "cursor = db.cursor()\n",
    "\n",
    "tuples = [\n",
    "  tuple(episode.values())\n",
    "  for episode in episodes\n",
    "]\n",
    "\n",
    "req = 'insert into Episode (name, episode, season, date, country, channel, url) values (?, ?, ?, ?, ?, ?, ?)'\n",
    "cursor.executemany(req, tuples) # /!\\ Ne pas relancer cette partie du code si les données sont déjà présente dans la base\n",
    "db.commit()\n",
    "db.close()"
   ]
  },
  {
   "cell_type": "markdown",
   "metadata": {},
   "source": [
    "## Algorithmie [1/2]"
   ]
  },
  {
   "cell_type": "code",
   "execution_count": null,
   "metadata": {},
   "outputs": [],
   "source": [
    "import sqlite3\n",
    "\n",
    "def countBy(key):\n",
    "  db = sqlite3.connect('./data/databases/database.db')\n",
    "  cursor = db.cursor()\n",
    "\n",
    "  req = f'''\n",
    "    select {key}, count(*) as length\n",
    "    from Episode\n",
    "    group by {key}\n",
    "    order by length desc\n",
    "    limit 3\n",
    "  '''\n",
    "\n",
    "  res = cursor.execute(req).fetchall()\n",
    "  db.commit()\n",
    "  db.close()\n",
    "\n",
    "  return res\n",
    "\n",
    "\n",
    "\n",
    "print(countBy('channel'))\n",
    "print(countBy('country'))"
   ]
  },
  {
   "cell_type": "code",
   "execution_count": null,
   "metadata": {},
   "outputs": [],
   "source": [
    "import sqlite3\n",
    "\n",
    "db = sqlite3.connect('./data/databases/database.db')\n",
    "cursor = db.cursor()\n",
    "\n",
    "req = '''\n",
    "  select name\n",
    "  from Episode\n",
    "  group by name\n",
    "'''\n",
    "\n",
    "res = cursor.execute(req).fetchall()\n",
    "db.commit()\n",
    "db.close()\n",
    "\n",
    "counter = {}\n",
    "\n",
    "for nameInArray in res:\n",
    "  name = nameInArray[0]\n",
    "  for word in name.split(' '):\n",
    "    word = word.lower()\n",
    "    try:\n",
    "      counter[word] += 1\n",
    "    except:\n",
    "      counter[word] = 1\n",
    "\n",
    "sortedCounter = dict(sorted(counter.items(), key=lambda item: item[1], reverse=True))\n",
    "\n",
    "print(sortedCounter)"
   ]
  },
  {
   "cell_type": "markdown",
   "metadata": {},
   "source": [
    "## Scraping [2/2]"
   ]
  },
  {
   "cell_type": "code",
   "execution_count": null,
   "metadata": {},
   "outputs": [],
   "source": [
    "import time\n",
    "import requests\n",
    "from bs4 import BeautifulSoup\n",
    "\n",
    "# for episode in episodes:\n",
    "for index in range(10):\n",
    "  episode = episodes[index]\n",
    "  episodeName = episode\n",
    "  url = f'https://www.spin-off.fr/{episode['url']}'\n",
    "\n",
    "response = requests.get(url)\n",
    "content = response.content\n",
    "page = BeautifulSoup(content, 'html')\n",
    "currentMonth = page.find_all('table', id_='series_liste_saisons')\n",
    "print(currentMonth)"
   ]
  },
  {
   "cell_type": "markdown",
   "metadata": {},
   "source": [
    "## SQL [2/2]"
   ]
  },
  {
   "cell_type": "code",
   "execution_count": null,
   "metadata": {},
   "outputs": [],
   "source": []
  },
  {
   "cell_type": "markdown",
   "metadata": {},
   "source": [
    "## Algorithmie [2/2]"
   ]
  },
  {
   "cell_type": "code",
   "execution_count": null,
   "metadata": {},
   "outputs": [],
   "source": []
  },
  {
   "cell_type": "markdown",
   "metadata": {},
   "source": [
    "## Orchestration"
   ]
  },
  {
   "cell_type": "code",
   "execution_count": null,
   "metadata": {},
   "outputs": [],
   "source": []
  }
 ],
 "metadata": {
  "kernelspec": {
   "display_name": "Python 3",
   "language": "python",
   "name": "python3"
  },
  "language_info": {
   "codemirror_mode": {
    "name": "ipython",
    "version": 3
   },
   "file_extension": ".py",
   "mimetype": "text/x-python",
   "name": "python",
   "nbconvert_exporter": "python",
   "pygments_lexer": "ipython3",
   "version": "3.12.0"
  }
 },
 "nbformat": 4,
 "nbformat_minor": 2
}
