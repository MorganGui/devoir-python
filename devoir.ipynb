{
 "cells": [
  {
   "cell_type": "markdown",
   "metadata": {},
   "source": [
    "## Scraping [1/2]"
   ]
  },
  {
   "cell_type": "code",
   "execution_count": 6,
   "metadata": {},
   "outputs": [],
   "source": [
    "import requests\n",
    "from bs4 import BeautifulSoup\n",
    "import csv\n",
    "\n",
    "\n",
    "def strToInt(str):\n",
    "  try:\n",
    "    return int(str)\n",
    "  except:\n",
    "    return 0\n",
    "\n",
    "\n",
    "def elementToObject(element, date):\n",
    "  episodeNameElements = element.findAll('a')\n",
    "  seasonAndEpisode = episodeNameElements[1].text.split('.')\n",
    "  channelElement = element.find_previous_sibling('img')\n",
    "  contryElements = channelElement.find_previous_sibling('img')\n",
    "  object = {\n",
    "    'name': episodeNameElements[0].text,\n",
    "    'episode': strToInt(seasonAndEpisode[1]),\n",
    "    'season': strToInt(seasonAndEpisode[0]),\n",
    "    'date': date,\n",
    "    'country': contryElements.get('alt'),\n",
    "    'channel': channelElement.get('alt'),\n",
    "    'url': episodeNameElements[0].get('href')\n",
    "  }\n",
    "  return object\n",
    "\n",
    "\n",
    "url = 'https://www.spin-off.fr/calendrier_des_series.html'\n",
    "response = requests.get(url)\n",
    "content = response.content\n",
    "page = BeautifulSoup(content, 'html')\n",
    "currentMonth = page.find_all('td', class_=['floatleftmobile td_jour', 'floatleftmobile td_jour td_jourcourant'])\n",
    "\n",
    "\n",
    "episodes = []\n",
    "for day in currentMonth:\n",
    "  dateElement = day.find('div', class_=['div_jour', 'div_jourcourant fond_degrade_v4'])\n",
    "  if dateElement:\n",
    "    date = dateElement.get('id').split('_')[1]\n",
    "    episodesElements = day.find_all('span', class_=['calendrier_episodes'])\n",
    "    for episodeElement in episodesElements:\n",
    "      episodes.append(elementToObject(episodeElement, date))\n",
    "\n",
    "# print(episodes)"
   ]
  },
  {
   "cell_type": "markdown",
   "metadata": {},
   "source": [
    "## Fichiers"
   ]
  },
  {
   "cell_type": "code",
   "execution_count": 7,
   "metadata": {},
   "outputs": [],
   "source": [
    "def objectToStringforCsv(episode):\n",
    "  return f'{episode['name']},{episode['episode']},{episode['season']},{episode['date']},{episode['country']},{episode['channel']},{episode['url']}\\n'\n",
    "\n",
    "strEpisodes = [\n",
    "  objectToStringforCsv(episode)\n",
    "  for episode in episodes\n",
    "]\n",
    "\n",
    "with open('./data/files/episodes.csv', mode='w+', encoding='utf-8') as file:\n",
    "  file.write(''.join(strEpisodes))"
   ]
  },
  {
   "cell_type": "code",
   "execution_count": 8,
   "metadata": {},
   "outputs": [],
   "source": [
    "def lineToTuples(line):\n",
    "  values = line.split(',')\n",
    "  print(values)\n",
    "\n",
    "def arrayToEpisode(values):\n",
    "  return {\n",
    "    'name': values[0],\n",
    "    'episode': int(values[1]),\n",
    "    'season': int(values[2]),\n",
    "    'date': values[3],\n",
    "    'country': values[4],\n",
    "    'channel': values[5],\n",
    "    'url': values[6]\n",
    "  }\n",
    "\n",
    "typeTuples = []\n",
    "episodes = []\n",
    "with open('./data/files/episodes.csv', 'r', encoding='utf-8') as file:\n",
    "  for line in file:\n",
    "    types = []\n",
    "    values = line.strip().split(',')\n",
    "    episodes.append(arrayToEpisode(values))\n",
    "    for value in values:\n",
    "      try:\n",
    "        value = int(value)\n",
    "      except:\n",
    "        value = value\n",
    "      types.append(type(value).__name__)\n",
    "    typeTuples.append(tuple(types))\n",
    "    # print(tuple(types))"
   ]
  },
  {
   "cell_type": "markdown",
   "metadata": {},
   "source": [
    "## SQL [1/2]"
   ]
  },
  {
   "cell_type": "code",
   "execution_count": 11,
   "metadata": {},
   "outputs": [],
   "source": [
    "import sqlite3\n",
    "\n",
    "db = sqlite3.connect('./data/databases/database.db')\n",
    "cursor = db.cursor()\n",
    "\n",
    "tuples = [\n",
    "  tuple(episode.values())\n",
    "  for episode in episodes\n",
    "]\n",
    "\n",
    "req = 'insert into Episode (name, episode, season, date, country, channel, url) values (?, ?, ?, ?, ?, ?, ?)'\n",
    "cursor.executemany(req, tuples)\n",
    "db.commit()\n",
    "db.close()"
   ]
  },
  {
   "cell_type": "markdown",
   "metadata": {},
   "source": [
    "## Algorithmie [1/2]"
   ]
  },
  {
   "cell_type": "code",
   "execution_count": 4,
   "metadata": {},
   "outputs": [
    {
     "name": "stdout",
     "output_type": "stream",
     "text": [
      "[('Netflix', 75), ('Disney+', 33), ('Apple TV+', 18), ('Paramount+', 15), ('Global', 13), ('TF1', 12), ('NBC', 12), ('HBO Max', 12), ('Hulu', 11), ('Prime Video', 10), ('Syfy', 9), ('Fox', 9), ('CraveTV', 7), ('ZDF', 6), ('Starz', 6), ('Channel 5', 6), ('CTV', 6), ('CBC', 6), ('AMC', 6), ('TV4', 5), ('SundanceTV', 4), ('Showtime', 4), ('HBO', 4), ('Epix', 4), ('BET+', 4), ('BBC One', 4), ('Amazon Freevee', 4), ('Adult Swim', 4), ('ALLBLK', 4), ('TMC', 3), ('Showtime on Demand', 3), ('Rai 1', 3), ('OWN', 3), ('Nickelodeon', 3), ('Moviestar+', 3), ('France 2', 3), ('FX', 3), ('CBC Gem', 3), ('BET', 3), ('TVE', 2), ('OCS', 2), ('Citytv', 2), ('ATRESplayer', 2), ('Één', 1), ('Sky1', 1), ('Puhu TV', 1), ('Paramount Network', 1), ('ITVX', 1), ('France 3', 1)]\n"
     ]
    }
   ],
   "source": [
    "import sqlite3\n",
    "\n",
    "db = sqlite3.connect('./data/databases/database.db')\n",
    "cursor = db.cursor()\n",
    "\n",
    "req = '''\n",
    "  select channel, count(*) as length\n",
    "  from Episode\n",
    "  group by channel\n",
    "  order by length desc\n",
    "'''\n",
    "\n",
    "res = cursor.execute(req).fetchall()\n",
    "db.commit()\n",
    "db.close()\n",
    "\n",
    "print(res)"
   ]
  },
  {
   "cell_type": "markdown",
   "metadata": {},
   "source": [
    "## Scraping [2/2]"
   ]
  },
  {
   "cell_type": "markdown",
   "metadata": {},
   "source": [
    "## SQL [2/2]"
   ]
  },
  {
   "cell_type": "markdown",
   "metadata": {},
   "source": [
    "## Algorithmie [2/2]"
   ]
  },
  {
   "cell_type": "markdown",
   "metadata": {},
   "source": [
    "## Orchestration"
   ]
  }
 ],
 "metadata": {
  "kernelspec": {
   "display_name": "Python 3",
   "language": "python",
   "name": "python3"
  },
  "language_info": {
   "codemirror_mode": {
    "name": "ipython",
    "version": 3
   },
   "file_extension": ".py",
   "mimetype": "text/x-python",
   "name": "python",
   "nbconvert_exporter": "python",
   "pygments_lexer": "ipython3",
   "version": "3.12.0"
  }
 },
 "nbformat": 4,
 "nbformat_minor": 2
}
