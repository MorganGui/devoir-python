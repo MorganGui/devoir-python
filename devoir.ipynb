{
 "cells": [
  {
   "cell_type": "markdown",
   "metadata": {},
   "source": [
    "## Scraping [1/2]"
   ]
  },
  {
   "cell_type": "code",
   "execution_count": 6,
   "metadata": {},
   "outputs": [
    {
     "ename": "AttributeError",
     "evalue": "module 'classes.Episode' has no attribute 'test'",
     "output_type": "error",
     "traceback": [
      "\u001b[1;31m---------------------------------------------------------------------------\u001b[0m",
      "\u001b[1;31mAttributeError\u001b[0m                            Traceback (most recent call last)",
      "\u001b[1;32md:\\Documents\\Pro\\LiveCampus\\cours\\python\\devoir\\devoir.ipynb Cell 2\u001b[0m line \u001b[0;36m3\n\u001b[0;32m     <a href='vscode-notebook-cell:/d%3A/Documents/Pro/LiveCampus/cours/python/devoir/devoir.ipynb#W1sZmlsZQ%3D%3D?line=19'>20</a>\u001b[0m   \u001b[39mobject\u001b[39m \u001b[39m=\u001b[39m {\n\u001b[0;32m     <a href='vscode-notebook-cell:/d%3A/Documents/Pro/LiveCampus/cours/python/devoir/devoir.ipynb#W1sZmlsZQ%3D%3D?line=20'>21</a>\u001b[0m     \u001b[39m'\u001b[39m\u001b[39mname\u001b[39m\u001b[39m'\u001b[39m: episodeNameElements[\u001b[39m0\u001b[39m]\u001b[39m.\u001b[39mtext,\n\u001b[0;32m     <a href='vscode-notebook-cell:/d%3A/Documents/Pro/LiveCampus/cours/python/devoir/devoir.ipynb#W1sZmlsZQ%3D%3D?line=21'>22</a>\u001b[0m     \u001b[39m'\u001b[39m\u001b[39mepisode\u001b[39m\u001b[39m'\u001b[39m: strToInt(seasonAndEpisode[\u001b[39m1\u001b[39m]),\n\u001b[1;32m   (...)\u001b[0m\n\u001b[0;32m     <a href='vscode-notebook-cell:/d%3A/Documents/Pro/LiveCampus/cours/python/devoir/devoir.ipynb#W1sZmlsZQ%3D%3D?line=26'>27</a>\u001b[0m     \u001b[39m'\u001b[39m\u001b[39murl\u001b[39m\u001b[39m'\u001b[39m: episodeNameElements[\u001b[39m0\u001b[39m]\u001b[39m.\u001b[39mget(\u001b[39m'\u001b[39m\u001b[39mhref\u001b[39m\u001b[39m'\u001b[39m)\n\u001b[0;32m     <a href='vscode-notebook-cell:/d%3A/Documents/Pro/LiveCampus/cours/python/devoir/devoir.ipynb#W1sZmlsZQ%3D%3D?line=27'>28</a>\u001b[0m   }\n\u001b[0;32m     <a href='vscode-notebook-cell:/d%3A/Documents/Pro/LiveCampus/cours/python/devoir/devoir.ipynb#W1sZmlsZQ%3D%3D?line=28'>29</a>\u001b[0m   \u001b[39mreturn\u001b[39;00m \u001b[39mobject\u001b[39m\n\u001b[1;32m---> <a href='vscode-notebook-cell:/d%3A/Documents/Pro/LiveCampus/cours/python/devoir/devoir.ipynb#W1sZmlsZQ%3D%3D?line=30'>31</a>\u001b[0m Episode\u001b[39m.\u001b[39;49mtest()\n\u001b[0;32m     <a href='vscode-notebook-cell:/d%3A/Documents/Pro/LiveCampus/cours/python/devoir/devoir.ipynb#W1sZmlsZQ%3D%3D?line=32'>33</a>\u001b[0m url \u001b[39m=\u001b[39m \u001b[39m'\u001b[39m\u001b[39mhttps://www.spin-off.fr/calendrier_des_series.html\u001b[39m\u001b[39m'\u001b[39m\n\u001b[0;32m     <a href='vscode-notebook-cell:/d%3A/Documents/Pro/LiveCampus/cours/python/devoir/devoir.ipynb#W1sZmlsZQ%3D%3D?line=33'>34</a>\u001b[0m response \u001b[39m=\u001b[39m requests\u001b[39m.\u001b[39mget(url)\n",
      "\u001b[1;31mAttributeError\u001b[0m: module 'classes.Episode' has no attribute 'test'"
     ]
    }
   ],
   "source": [
    "import requests\n",
    "from bs4 import BeautifulSoup\n",
    "\n",
    "\n",
    "def strToInt(str):\n",
    "  try:\n",
    "    return int(str)\n",
    "  except:\n",
    "    return 0\n",
    "\n",
    "\n",
    "def elementToObject(element, date):\n",
    "  episodeNameElements = element.findAll('a')\n",
    "  seasonAndEpisode = episodeNameElements[1].text.split('.')\n",
    "  channelElement = element.find_previous_sibling('img')\n",
    "  contryElements = channelElement.find_previous_sibling('img')\n",
    "\n",
    "  object = {\n",
    "    'name': episodeNameElements[0].text,\n",
    "    'episode': strToInt(seasonAndEpisode[1]),\n",
    "    'season': strToInt(seasonAndEpisode[0]),\n",
    "    'date': date,\n",
    "    'country': contryElements.get('alt'),\n",
    "    'channel': channelElement.get('alt'),\n",
    "    'url': episodeNameElements[0].get('href')\n",
    "  }\n",
    "  return object\n",
    "\n",
    "\n",
    "url = 'https://www.spin-off.fr/calendrier_des_series.html'\n",
    "response = requests.get(url)\n",
    "content = response.content\n",
    "page = BeautifulSoup(content, 'html')\n",
    "currentMonth = page.find_all('td', class_=['floatleftmobile td_jour', 'floatleftmobile td_jour td_jourcourant'])\n",
    "\n",
    "\n",
    "episodes = []\n",
    "for day in currentMonth:\n",
    "  dateElement = day.find('div', class_=['div_jour', 'div_jourcourant fond_degrade_v4'])\n",
    "  if dateElement:\n",
    "    date = dateElement.get('id').split('_')[1]\n",
    "    episodesElements = day.find_all('span', class_=['calendrier_episodes'])\n",
    "    for episodeElement in episodesElements:\n",
    "      episodes.append(elementToObject(episodeElement, date))\n",
    "\n",
    "print(episodes)"
   ]
  },
  {
   "cell_type": "markdown",
   "metadata": {},
   "source": [
    "## Fichiers"
   ]
  },
  {
   "cell_type": "code",
   "execution_count": null,
   "metadata": {},
   "outputs": [],
   "source": [
    "def objectToStringforCsv(episode):\n",
    "  return f'{episode['name']},{episode['episode']},{episode['season']},{episode['date']},{episode['country']},{episode['channel']},{episode['url']}\\n'\n",
    "\n",
    "strEpisodes = [\n",
    "  objectToStringforCsv(episode)\n",
    "  for episode in episodes\n",
    "]\n",
    "\n",
    "with open('./data/files/episodes.csv', mode='w+', encoding='utf-8') as file:\n",
    "  file.write(''.join(strEpisodes))"
   ]
  },
  {
   "cell_type": "code",
   "execution_count": 32,
   "metadata": {},
   "outputs": [
    {
     "name": "stdout",
     "output_type": "stream",
     "text": [
      "('str', 'int', 'int', 'str', 'str', 'str', 'str')\n"
     ]
    }
   ],
   "source": [
    "def lineToTuples(line):\n",
    "  values = line.split(',')\n",
    "  print(values)\n",
    "\n",
    "# la method \"arrayToEpisode\" permet de récupérer les données depuis le fichier CSV plutôt que de refaire le scrapping du site.\n",
    "def arrayToEpisode(values):\n",
    "  return {\n",
    "    'name': values[0],\n",
    "    'episode': int(values[1]),\n",
    "    'season': int(values[2]),\n",
    "    'date': values[3],\n",
    "    'country': values[4],\n",
    "    'channel': values[5],\n",
    "    'url': values[6]\n",
    "  }\n",
    "\n",
    "typeTuples = []\n",
    "episodes = []\n",
    "with open('./data/files/episodes.csv', 'r', encoding='utf-8') as file:\n",
    "  for line in file:\n",
    "    types = []\n",
    "    values = line.strip().split(',')\n",
    "    episodes.append(arrayToEpisode(values))\n",
    "    for value in values:\n",
    "      try:\n",
    "        value = int(value)\n",
    "      except:\n",
    "        value = value\n",
    "      types.append(type(value).__name__)\n",
    "    typeTuples.append(tuple(types))\n",
    "\n",
    "print(typeTuples[0])"
   ]
  },
  {
   "cell_type": "markdown",
   "metadata": {},
   "source": [
    "## SQL [1/2]"
   ]
  },
  {
   "cell_type": "code",
   "execution_count": 11,
   "metadata": {},
   "outputs": [],
   "source": [
    "import sqlite3\n",
    "\n",
    "db = sqlite3.connect('./data/databases/database.db')\n",
    "cursor = db.cursor()\n",
    "\n",
    "tuples = [\n",
    "  tuple(episode.values())\n",
    "  for episode in episodes\n",
    "]\n",
    "\n",
    "req = 'insert into Episode (name, episode, season, date, country, channel, url) values (?, ?, ?, ?, ?, ?, ?)'\n",
    "cursor.executemany(req, tuples) # /!\\ Ne pas relancer cette partie du code si les données sont déjà présente dans la base\n",
    "db.commit()\n",
    "db.close()"
   ]
  },
  {
   "cell_type": "markdown",
   "metadata": {},
   "source": [
    "## Algorithmie [1/2]"
   ]
  },
  {
   "cell_type": "code",
   "execution_count": 6,
   "metadata": {},
   "outputs": [
    {
     "name": "stdout",
     "output_type": "stream",
     "text": [
      "[('Netflix', 75), ('Disney+', 33), ('Apple TV+', 18)]\n",
      "[('Etats-Unis', 264), ('Canada', 37), ('France', 21)]\n"
     ]
    }
   ],
   "source": [
    "import sqlite3\n",
    "\n",
    "def countBy(key):\n",
    "  db = sqlite3.connect('./data/databases/database.db')\n",
    "  cursor = db.cursor()\n",
    "\n",
    "  req = f'''\n",
    "    select {key}, count(*) as length\n",
    "    from Episode\n",
    "    group by {key}\n",
    "    order by length desc\n",
    "    limit 3\n",
    "  '''\n",
    "\n",
    "  res = cursor.execute(req).fetchall()\n",
    "  db.commit()\n",
    "  db.close()\n",
    "\n",
    "  return res\n",
    "\n",
    "\n",
    "\n",
    "print(countBy('channel'))\n",
    "print(countBy('country'))"
   ]
  },
  {
   "cell_type": "code",
   "execution_count": 33,
   "metadata": {},
   "outputs": [
    {
     "name": "stdout",
     "output_type": "stream",
     "text": [
      "{'the': 19, 'of': 4, 'all': 4, '(2023)': 4, 'de': 3, 'murder': 2, 'at': 2, 'and': 2, 'legacy': 2, 'family': 2, 'tout': 2, '(2022)': 2, 'la': 2, 'un': 2, '4': 1, 'estrellas': 1, 'a': 1, 'end': 1, 'world': 1, 'creatures': 1, 'great': 1, 'small': 1, '(2020)': 1, 'rise': 1, 'light': 1, 'we': 1, 'cannot': 1, 'see': 1, 'anderson': 1, 'spider': 1, 'silva': 1, 'moment': 1, '(ci': 1, 'shi': 1, 'ci': 1, 'ke)': 1, 'beacon': 1, '23': 1, 'billy': 1, 'kid': 1, 'black': 1, 'cake': 1, 'blackberry': 1, 'blanca': 1, 'blue': 1, 'eye': 1, 'samurai': 1, \"bob's\": 1, 'burgers': 1, 'boomer': 1, 'bosch:': 1, 'bros': 1, 'children': 1, 'ruin': 1, 'everything': 1, 'chucky': 1, \"cooper's\": 1, 'bar': 1, 'culprits': 1, 'dna': 1, 'do': 1, 'crime': 1, 'daily': 1, 'dose': 1, 'sunshine': 1, 'demain': 1, 'nous': 1, 'appartient': 1, 'deutsches': 1, 'haus': 1, 'doctor': 1, 'who': 1, '(2005)': 1, 'doom': 1, 'patrol': 1, 'en': 1, 'helt': 1, 'vanlig': 1, 'familj': 1, 'entre': 1, 'tierras': 1, 'guy': 1, 'law': 1, '(can)': 1, 'fargo': 1, 'fear': 1, 'walking': 1, 'dead': 1, 'fellow': 1, 'travelers': 1, 'ferry': 1, '-': 1, 'serie': 1, 'for': 1, 'mankind': 1, 'found': 1, 'frasier': 1, 'gadis': 1, 'kretek': 1, 'gen': 1, 'v': 1, 'goosebumps': 1, 'heartbeats': 1, 'heartland': 1, '(ca)': 1, 'hotel': 1, 'mondial': 1, 'hudson': 1, '&': 1, 'rex': 1, 'i': 1, 'leoni': 1, 'di': 1, 'sicilia': 1, 'ici': 1, 'commence': 1, 'informacja': 1, 'zwrotna': 1, 'inspirez': 1, 'expirez': 1, 'invincible': 1, 'julia': 1, 'kingdom': 1, 'business': 1, 'krapopolis': 1, 'lt-21': 1, 'mesias': 1, 'lawmen:': 1, 'bass': 1, 'reeves': 1, 'le': 1, 'voyageur': 1, 'les': 1, 'mystères': 1, \"l'amour\": 1, 'lessons': 1, 'in': 1, 'chemistry': 1, 'loki': 1, 'magnum': 1, 'p.i.': 1, '(2018)': 1, 'master': 1, 'crimes': 1, 'monarch:': 1, 'monsters': 1, 'my': 1, 'demon': 1, 'ncis:': 1, 'sydney': 1, 'obliterated': 1, 'ojitos': 1, 'huevo': 1, 'power': 1, 'book': 1, 'iv:': 1, 'force': 1, 'quantum': 1, 'leap': 1, 'rap': 1, 'sh!t': 1, 'rick': 1, 'morty': 1, 'robyn': 1, 'hood': 1, 'romancero': 1, 'soko': 1, 'leipzig': 1, 'sagrada': 1, 'familia': 1, 'sahsiyet': 1, 'shetland': 1, 'shining': 1, 'vale': 1, 'sistas': 1, 'skymed': 1, 'solsidan': 1, 'sort': 1, 'star': 1, 'trek:': 1, 'lower': 1, 'decks': 1, 'suburræterna': 1, 'surrealestate': 1, 'terror': 1, 'lake': 1, 'drive': 1, 'terzi': 1, 'artful': 1, 'dodger': 1, 'buccaneers': 1, 'crown': 1, 'curse': 1, 'gilded': 1, 'age': 1, 'good': 1, 'ship': 1, 'lazarus': 1, 'project': 1, 'morning': 1, 'show': 1, 'oval': 1, 'santa': 1, 'clauses': 1, 'simpsons': 1, 'vanishing': 1, 'triangle': 1, 'winter': 1, 'king': 1, 'va': 1, 'bien': 1, 'transplant': 1, 'si': 1, 'grand': 1, 'soleil': 1, 'professore': 1, 'upload': 1, 'vigilante': 1, 'virgin': 1, 'river': 1, 'yellowstone': 1, 'young': 1, 'dylan': 1, 'à': 1, 'carte': 1}\n"
     ]
    }
   ],
   "source": [
    "import sqlite3\n",
    "\n",
    "db = sqlite3.connect('./data/databases/database.db')\n",
    "cursor = db.cursor()\n",
    "\n",
    "req = '''\n",
    "  select name\n",
    "  from Episode\n",
    "  group by name\n",
    "'''\n",
    "\n",
    "res = cursor.execute(req).fetchall()\n",
    "db.commit()\n",
    "db.close()\n",
    "\n",
    "counter = {}\n",
    "\n",
    "for nameInArray in res:\n",
    "  name = nameInArray[0]\n",
    "  for word in name.split(' '):\n",
    "    word = word.lower()\n",
    "    try:\n",
    "      counter[word] += 1\n",
    "    except:\n",
    "      counter[word] = 1\n",
    "\n",
    "sortedCounter = dict(sorted(counter.items(), key=lambda item: item[1], reverse=True))\n",
    "\n",
    "print(sortedCounter)"
   ]
  },
  {
   "cell_type": "markdown",
   "metadata": {},
   "source": [
    "## Scraping [2/2]"
   ]
  },
  {
   "cell_type": "code",
   "execution_count": 31,
   "metadata": {},
   "outputs": [
    {
     "name": "stdout",
     "output_type": "stream",
     "text": [
      "[]\n"
     ]
    }
   ],
   "source": [
    "import time\n",
    "import requests\n",
    "from bs4 import BeautifulSoup\n",
    "\n",
    "# for episode in episodes:\n",
    "for index in range(10):\n",
    "  episode = episodes[index]\n",
    "  episodeName = episode\n",
    "  url = f'https://www.spin-off.fr/{episode['url']}'\n",
    "\n",
    "response = requests.get(url)\n",
    "content = response.content\n",
    "page = BeautifulSoup(content, 'html')\n",
    "currentMonth = page.find_all('table', id_='series_liste_saisons')\n",
    "print(currentMonth)"
   ]
  },
  {
   "cell_type": "markdown",
   "metadata": {},
   "source": [
    "## SQL [2/2]"
   ]
  },
  {
   "cell_type": "code",
   "execution_count": null,
   "metadata": {},
   "outputs": [],
   "source": []
  },
  {
   "cell_type": "markdown",
   "metadata": {},
   "source": [
    "## Algorithmie [2/2]"
   ]
  },
  {
   "cell_type": "code",
   "execution_count": null,
   "metadata": {},
   "outputs": [],
   "source": []
  },
  {
   "cell_type": "markdown",
   "metadata": {},
   "source": [
    "## Orchestration"
   ]
  },
  {
   "cell_type": "code",
   "execution_count": null,
   "metadata": {},
   "outputs": [],
   "source": []
  }
 ],
 "metadata": {
  "kernelspec": {
   "display_name": "Python 3",
   "language": "python",
   "name": "python3"
  },
  "language_info": {
   "codemirror_mode": {
    "name": "ipython",
    "version": 3
   },
   "file_extension": ".py",
   "mimetype": "text/x-python",
   "name": "python",
   "nbconvert_exporter": "python",
   "pygments_lexer": "ipython3",
   "version": "3.12.0"
  }
 },
 "nbformat": 4,
 "nbformat_minor": 2
}
