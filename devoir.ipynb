{
 "cells": [
  {
   "cell_type": "markdown",
   "metadata": {},
   "source": [
    "## Scraping [1/2]"
   ]
  },
  {
   "cell_type": "code",
   "execution_count": 7,
   "metadata": {},
   "outputs": [
    {
     "name": "stdout",
     "output_type": "stream",
     "text": [
      "[{'name': '4 Estrellas', 'episode': 110, 'season': 1, 'date': '01-11-2023', 'country': 'Espagne', 'channel': 'TVE', 'url': 'serie-15345-4-Estrellas.html'}, {'name': 'Black Cake', 'episode': 1, 'season': 1, 'date': '01-11-2023', 'country': 'Etats-Unis', 'channel': 'Hulu', 'url': 'serie-15614-Black-Cake.html'}, {'name': 'Black Cake', 'episode': 2, 'season': 1, 'date': '01-11-2023', 'country': 'Etats-Unis', 'channel': 'Hulu', 'url': 'serie-15614-Black-Cake.html'}, {'name': 'Black Cake', 'episode': 3, 'season': 1, 'date': '01-11-2023', 'country': 'Etats-Unis', 'channel': 'Hulu', 'url': 'serie-15614-Black-Cake.html'}, {'name': 'Blanca', 'episode': 5, 'season': 2, 'date': '01-11-2023', 'country': 'Italie', 'channel': 'Rai 1', 'url': 'serie-14708-Blanca.html'}, {'name': 'Children Ruin Everything', 'episode': 6, 'season': 3, 'date': '01-11-2023', 'country': 'Canada', 'channel': 'CTV', 'url': 'serie-13789-Children-Ruin-Everything.html'}, {'name': 'Chucky', 'episode': 5, 'season': 3, 'date': '01-11-2023', 'country': 'Etats-Unis', 'channel': 'Syfy', 'url': 'serie-13240-Chucky.html'}, {'name': \"Cooper's Bar\", 'episode': 5, 'season': 2, 'date': '01-11-2023', 'country': 'Etats-Unis', 'channel': 'AMC', 'url': 'serie-14480-Cooper-s-Bar.html'}, {'name': 'Demain nous appartient', 'episode': 53, 'season': 7, 'date': '01-11-2023', 'country': 'France', 'channel': 'TF1', 'url': 'serie-4146-Demain-nous-appartient.html'}, {'name': 'Hotel Mondial', 'episode': 5, 'season': 2, 'date': '01-11-2023', 'country': 'Allemagne', 'channel': 'ZDF', 'url': 'serie-14993-Hotel-Mondial.html'}, {'name': 'Hudson & Rex', 'episode': 5, 'season': 6, 'date': '01-11-2023', 'country': 'Canada', 'channel': 'Citytv', 'url': 'serie-8391-Hudson--Rex.html'}, {'name': 'I Leoni di Sicilia', 'episode': 5, 'season': 1, 'date': '01-11-2023', 'country': 'Etats-Unis', 'channel': 'Disney+', 'url': 'serie-15685-I-Leoni-di-Sicilia.html'}, {'name': 'I Leoni di Sicilia', 'episode': 6, 'season': 1, 'date': '01-11-2023', 'country': 'Etats-Unis', 'channel': 'Disney+', 'url': 'serie-15685-I-Leoni-di-Sicilia.html'}, {'name': 'I Leoni di Sicilia', 'episode': 7, 'season': 1, 'date': '01-11-2023', 'country': 'Etats-Unis', 'channel': 'Disney+', 'url': 'serie-15685-I-Leoni-di-Sicilia.html'}, {'name': 'I Leoni di Sicilia', 'episode': 8, 'season': 1, 'date': '01-11-2023', 'country': 'Etats-Unis', 'channel': 'Disney+', 'url': 'serie-15685-I-Leoni-di-Sicilia.html'}, {'name': 'Ici tout commence', 'episode': 48, 'season': 4, 'date': '01-11-2023', 'country': 'France', 'channel': 'TF1', 'url': 'serie-11935-Ici-tout-commence.html'}, {'name': 'Inspirez expirez', 'episode': 4, 'season': 1, 'date': '01-11-2023', 'country': 'Canada', 'channel': 'CraveTV', 'url': 'serie-15707-Inspirez-expirez.html'}, {'name': 'Inspirez expirez', 'episode': 5, 'season': 1, 'date': '01-11-2023', 'country': 'Canada', 'channel': 'CraveTV', 'url': 'serie-15707-Inspirez-expirez.html'}, {'name': 'Magnum P.I. (2018)', 'episode': 15, 'season': 5, 'date': '01-11-2023', 'country': 'Etats-Unis', 'channel': 'NBC', 'url': 'serie-7010-Magnum-PI-(2018).html'}, {'name': 'Quantum Leap (2022)', 'episode': 5, 'season': 2, 'date': '01-11-2023', 'country': 'Etats-Unis', 'channel': 'NBC', 'url': 'serie-14394-Quantum-Leap-(2022).html'}, {'name': 'Robyn Hood', 'episode': 6, 'season': 1, 'date': '01-11-2023', 'country': 'Canada', 'channel': 'Global', 'url': 'serie-15665-Robyn-Hood.html'}, {'name': 'Shetland', 'episode': 1, 'season': 8, 'date': '01-11-2023', 'country': 'Royaume-Uni', 'channel': 'BBC One', 'url': 'serie-1139-Shetland.html'}, {'name': 'Sistas', 'episode': 14, 'season': 6, 'date': '01-11-2023', 'country': 'Etats-Unis', 'channel': 'BET', 'url': 'serie-9954-Sistas.html'}, {'name': 'SurrealEstate', 'episode': 5, 'season': 2, 'date': '01-11-2023', 'country': 'Etats-Unis', 'channel': 'Syfy', 'url': 'serie-13085-SurrealEstate.html'}, {'name': 'The Morning Show', 'episode': 9, 'season': 3, 'date': '01-11-2023', 'country': 'Etats-Unis', 'channel': 'Apple TV+', 'url': 'serie-9906-The-Morning-Show.html'}, {'name': 'Un Si Grand Soleil', 'episode': 42, 'season': 6, 'date': '01-11-2023', 'country': 'France', 'channel': 'France 2', 'url': 'serie-7375-Un-Si-Grand-Soleil.html'}, {'name': 'Young Dylan', 'episode': 9, 'season': 4, 'date': '01-11-2023', 'country': 'Etats-Unis', 'channel': 'Nickelodeon', 'url': 'serie-10619-Young-Dylan.html'}, {'name': '4 Estrellas', 'episode': 111, 'season': 1, 'date': '02-11-2023', 'country': 'Espagne', 'channel': 'TVE', 'url': 'serie-15345-4-Estrellas.html'}, {'name': 'All Creatures Great and Small (2020)', 'episode': 5, 'season': 4, 'date': '02-11-2023', 'country': 'Royaume-Uni', 'channel': 'Channel 5', 'url': 'serie-11765-All-Creatures-Great-and-Small-(2020).html'}, {'name': 'All the Light We Cannot See', 'episode': 1, 'season': 1, 'date': '02-11-2023', 'country': 'Etats-Unis', 'channel': 'Netflix', 'url': 'serie-15251-All-the-Light-We-Cannot-See.html'}, {'name': 'All the Light We Cannot See', 'episode': 2, 'season': 1, 'date': '02-11-2023', 'country': 'Etats-Unis', 'channel': 'Netflix', 'url': 'serie-15251-All-the-Light-We-Cannot-See.html'}, {'name': 'All the Light We Cannot See', 'episode': 3, 'season': 1, 'date': '02-11-2023', 'country': 'Etats-Unis', 'channel': 'Netflix', 'url': 'serie-15251-All-the-Light-We-Cannot-See.html'}, {'name': 'All the Light We Cannot See', 'episode': 4, 'season': 1, 'date': '02-11-2023', 'country': 'Etats-Unis', 'channel': 'Netflix', 'url': 'serie-15251-All-the-Light-We-Cannot-See.html'}, {'name': 'À La Carte', 'episode': 8, 'season': 2, 'date': '02-11-2023', 'country': 'Etats-Unis', 'channel': 'ALLBLK', 'url': 'serie-14106-A-La-Carte.html'}, {'name': 'Demain nous appartient', 'episode': 54, 'season': 7, 'date': '02-11-2023', 'country': 'France', 'channel': 'TF1', 'url': 'serie-4146-Demain-nous-appartient.html'}, {'name': 'Doom Patrol', 'episode': 11, 'season': 4, 'date': '02-11-2023', 'country': 'Etats-Unis', 'channel': 'HBO Max', 'url': 'serie-7951-Doom-Patrol.html'}, {'name': 'Frasier (2023)', 'episode': 5, 'season': 1, 'date': '02-11-2023', 'country': 'Etats-Unis', 'channel': 'Paramount+', 'url': 'serie-15573-Frasier-(2023).html'}, {'name': 'Gadis Kretek', 'episode': 1, 'season': 1, 'date': '02-11-2023', 'country': 'Etats-Unis', 'channel': 'Netflix', 'url': 'serie-15532-Gadis-Kretek.html'}, {'name': 'Gadis Kretek', 'episode': 2, 'season': 1, 'date': '02-11-2023', 'country': 'Etats-Unis', 'channel': 'Netflix', 'url': 'serie-15532-Gadis-Kretek.html'}, {'name': 'Gadis Kretek', 'episode': 3, 'season': 1, 'date': '02-11-2023', 'country': 'Etats-Unis', 'channel': 'Netflix', 'url': 'serie-15532-Gadis-Kretek.html'}, {'name': 'Gadis Kretek', 'episode': 4, 'season': 1, 'date': '02-11-2023', 'country': 'Etats-Unis', 'channel': 'Netflix', 'url': 'serie-15532-Gadis-Kretek.html'}, {'name': 'Gadis Kretek', 'episode': 5, 'season': 1, 'date': '02-11-2023', 'country': 'Etats-Unis', 'channel': 'Netflix', 'url': 'serie-15532-Gadis-Kretek.html'}, {'name': 'Ici tout commence', 'episode': 49, 'season': 4, 'date': '02-11-2023', 'country': 'France', 'channel': 'TF1', 'url': 'serie-11935-Ici-tout-commence.html'}, {'name': 'Kingdom Business', 'episode': 1, 'season': 2, 'date': '02-11-2023', 'country': 'Etats-Unis', 'channel': 'BET+', 'url': 'serie-14195-Kingdom-Business.html'}, {'name': 'La Mesias', 'episode': 5, 'season': 1, 'date': '02-11-2023', 'country': 'Espagne', 'channel': 'Moviestar+', 'url': 'serie-15635-La-Mesias.html'}, {'name': 'Loki', 'episode': 5, 'season': 2, 'date': '02-11-2023', 'country': 'Etats-Unis', 'channel': 'Disney+', 'url': 'serie-12821-Loki.html'}, {'name': 'LT-21', 'episode': 7, 'season': 1, 'date': '02-11-2023', 'country': 'France', 'channel': 'OCS', 'url': 'serie-15526-LT-21.html'}, {'name': 'LT-21', 'episode': 8, 'season': 1, 'date': '02-11-2023', 'country': 'France', 'channel': 'OCS', 'url': 'serie-15526-LT-21.html'}, {'name': 'Star Trek: Lower Decks', 'episode': 10, 'season': 4, 'date': '02-11-2023', 'country': 'Etats-Unis', 'channel': 'Paramount+', 'url': 'serie-11503-Star-Trek-Lower-Decks.html'}, {'name': 'The Vanishing Triangle', 'episode': 3, 'season': 1, 'date': '02-11-2023', 'country': 'Etats-Unis', 'channel': 'SundanceTV', 'url': 'serie-15619-The-Vanishing-Triangle.html'}, {'name': 'Un Si Grand Soleil', 'episode': 43, 'season': 6, 'date': '02-11-2023', 'country': 'France', 'channel': 'France 2', 'url': 'serie-7375-Un-Si-Grand-Soleil.html'}, {'name': 'Blue Eye Samurai', 'episode': 1, 'season': 1, 'date': '03-11-2023', 'country': 'Etats-Unis', 'channel': 'Netflix', 'url': 'serie-15696-Blue-Eye-Samurai.html'}, {'name': 'Blue Eye Samurai', 'episode': 2, 'season': 1, 'date': '03-11-2023', 'country': 'Etats-Unis', 'channel': 'Netflix', 'url': 'serie-15696-Blue-Eye-Samurai.html'}, {'name': 'Blue Eye Samurai', 'episode': 3, 'season': 1, 'date': '03-11-2023', 'country': 'Etats-Unis', 'channel': 'Netflix', 'url': 'serie-15696-Blue-Eye-Samurai.html'}, {'name': 'Blue Eye Samurai', 'episode': 4, 'season': 1, 'date': '03-11-2023', 'country': 'Etats-Unis', 'channel': 'Netflix', 'url': 'serie-15696-Blue-Eye-Samurai.html'}, {'name': 'Blue Eye Samurai', 'episode': 5, 'season': 1, 'date': '03-11-2023', 'country': 'Etats-Unis', 'channel': 'Netflix', 'url': 'serie-15696-Blue-Eye-Samurai.html'}, {'name': 'Blue Eye Samurai', 'episode': 6, 'season': 1, 'date': '03-11-2023', 'country': 'Etats-Unis', 'channel': 'Netflix', 'url': 'serie-15696-Blue-Eye-Samurai.html'}, {'name': 'Blue Eye Samurai', 'episode': 7, 'season': 1, 'date': '03-11-2023', 'country': 'Etats-Unis', 'channel': 'Netflix', 'url': 'serie-15696-Blue-Eye-Samurai.html'}, {'name': 'Blue Eye Samurai', 'episode': 8, 'season': 1, 'date': '03-11-2023', 'country': 'Etats-Unis', 'channel': 'Netflix', 'url': 'serie-15696-Blue-Eye-Samurai.html'}, {'name': 'Bosch: Legacy', 'episode': 7, 'season': 2, 'date': '03-11-2023', 'country': 'Etats-Unis', 'channel': 'Amazon Freevee', 'url': 'serie-14009-Bosch-Legacy.html'}, {'name': 'Bosch: Legacy', 'episode': 8, 'season': 2, 'date': '03-11-2023', 'country': 'Etats-Unis', 'channel': 'Amazon Freevee', 'url': 'serie-14009-Bosch-Legacy.html'}, {'name': 'Daily Dose of Sunshine', 'episode': 1, 'season': 1, 'date': '03-11-2023', 'country': 'Etats-Unis', 'channel': 'Netflix', 'url': 'serie-15701-Daily-Dose-of-Sunshine.html'}, {'name': 'Daily Dose of Sunshine', 'episode': 2, 'season': 1, 'date': '03-11-2023', 'country': 'Etats-Unis', 'channel': 'Netflix', 'url': 'serie-15701-Daily-Dose-of-Sunshine.html'}, {'name': 'Daily Dose of Sunshine', 'episode': 3, 'season': 1, 'date': '03-11-2023', 'country': 'Etats-Unis', 'channel': 'Netflix', 'url': 'serie-15701-Daily-Dose-of-Sunshine.html'}, {'name': 'Daily Dose of Sunshine', 'episode': 4, 'season': 1, 'date': '03-11-2023', 'country': 'Etats-Unis', 'channel': 'Netflix', 'url': 'serie-15701-Daily-Dose-of-Sunshine.html'}, {'name': 'Daily Dose of Sunshine', 'episode': 5, 'season': 1, 'date': '03-11-2023', 'country': 'Etats-Unis', 'channel': 'Netflix', 'url': 'serie-15701-Daily-Dose-of-Sunshine.html'}, {'name': 'Daily Dose of Sunshine', 'episode': 6, 'season': 1, 'date': '03-11-2023', 'country': 'Etats-Unis', 'channel': 'Netflix', 'url': 'serie-15701-Daily-Dose-of-Sunshine.html'}, {'name': 'Daily Dose of Sunshine', 'episode': 7, 'season': 1, 'date': '03-11-2023', 'country': 'Etats-Unis', 'channel': 'Netflix', 'url': 'serie-15701-Daily-Dose-of-Sunshine.html'}, {'name': 'Daily Dose of Sunshine', 'episode': 8, 'season': 1, 'date': '03-11-2023', 'country': 'Etats-Unis', 'channel': 'Netflix', 'url': 'serie-15701-Daily-Dose-of-Sunshine.html'}, {'name': 'Daily Dose of Sunshine', 'episode': 9, 'season': 1, 'date': '03-11-2023', 'country': 'Etats-Unis', 'channel': 'Netflix', 'url': 'serie-15701-Daily-Dose-of-Sunshine.html'}, {'name': 'Daily Dose of Sunshine', 'episode': 10, 'season': 1, 'date': '03-11-2023', 'country': 'Etats-Unis', 'channel': 'Netflix', 'url': 'serie-15701-Daily-Dose-of-Sunshine.html'}, {'name': 'Daily Dose of Sunshine', 'episode': 11, 'season': 1, 'date': '03-11-2023', 'country': 'Etats-Unis', 'channel': 'Netflix', 'url': 'serie-15701-Daily-Dose-of-Sunshine.html'}, {'name': 'Daily Dose of Sunshine', 'episode': 12, 'season': 1, 'date': '03-11-2023', 'country': 'Etats-Unis', 'channel': 'Netflix', 'url': 'serie-15701-Daily-Dose-of-Sunshine.html'}, {'name': 'Demain nous appartient', 'episode': 55, 'season': 7, 'date': '03-11-2023', 'country': 'France', 'channel': 'TF1', 'url': 'serie-4146-Demain-nous-appartient.html'}, {'name': 'Fellow Travelers', 'episode': 2, 'season': 1, 'date': '03-11-2023', 'country': 'Etats-Unis', 'channel': 'Showtime', 'url': 'serie-15528-Fellow-Travelers.html'}, {'name': 'Ferry - De Serie', 'episode': 1, 'season': 1, 'date': '03-11-2023', 'country': 'Etats-Unis', 'channel': 'Netflix', 'url': 'serie-15534-Ferry---De-Serie.html'}, {'name': 'Ferry - De Serie', 'episode': 2, 'season': 1, 'date': '03-11-2023', 'country': 'Etats-Unis', 'channel': 'Netflix', 'url': 'serie-15534-Ferry---De-Serie.html'}, {'name': 'Ferry - De Serie', 'episode': 3, 'season': 1, 'date': '03-11-2023', 'country': 'Etats-Unis', 'channel': 'Netflix', 'url': 'serie-15534-Ferry---De-Serie.html'}, {'name': 'Ferry - De Serie', 'episode': 4, 'season': 1, 'date': '03-11-2023', 'country': 'Etats-Unis', 'channel': 'Netflix', 'url': 'serie-15534-Ferry---De-Serie.html'}, {'name': 'Ferry - De Serie', 'episode': 5, 'season': 1, 'date': '03-11-2023', 'country': 'Etats-Unis', 'channel': 'Netflix', 'url': 'serie-15534-Ferry---De-Serie.html'}, {'name': 'Ferry - De Serie', 'episode': 6, 'season': 1, 'date': '03-11-2023', 'country': 'Etats-Unis', 'channel': 'Netflix', 'url': 'serie-15534-Ferry---De-Serie.html'}, {'name': 'Ferry - De Serie', 'episode': 7, 'season': 1, 'date': '03-11-2023', 'country': 'Etats-Unis', 'channel': 'Netflix', 'url': 'serie-15534-Ferry---De-Serie.html'}, {'name': 'Ferry - De Serie', 'episode': 8, 'season': 1, 'date': '03-11-2023', 'country': 'Etats-Unis', 'channel': 'Netflix', 'url': 'serie-15534-Ferry---De-Serie.html'}, {'name': 'Gen V', 'episode': 8, 'season': 1, 'date': '03-11-2023', 'country': 'Etats-Unis', 'channel': 'Prime Video', 'url': 'serie-15489-Gen-V.html'}, {'name': 'Goosebumps (2023)', 'episode': 8, 'season': 1, 'date': '03-11-2023', 'country': 'Etats-Unis', 'channel': 'Disney+', 'url': 'serie-15599-Goosebumps-(2023).html'}, {'name': 'Ici tout commence', 'episode': 50, 'season': 4, 'date': '03-11-2023', 'country': 'France', 'channel': 'TF1', 'url': 'serie-11935-Ici-tout-commence.html'}, {'name': 'Invincible', 'episode': 1, 'season': 2, 'date': '03-11-2023', 'country': 'Etats-Unis', 'channel': 'Prime Video', 'url': 'serie-12630-Invincible.html'}, {'name': 'Lessons In Chemistry', 'episode': 5, 'season': 1, 'date': '03-11-2023', 'country': 'Etats-Unis', 'channel': 'Apple TV+', 'url': 'serie-15376-Lessons-In-Chemistry.html'}, {'name': 'Power Book IV: Force', 'episode': 9, 'season': 2, 'date': '03-11-2023', 'country': 'Etats-Unis', 'channel': 'Starz', 'url': 'serie-13586-Power-Book-IV-Force.html'}, {'name': 'Romancero', 'episode': 1, 'season': 1, 'date': '03-11-2023', 'country': 'Etats-Unis', 'channel': 'Prime Video', 'url': 'serie-15622-Romancero.html'}, {'name': 'Romancero', 'episode': 2, 'season': 1, 'date': '03-11-2023', 'country': 'Etats-Unis', 'channel': 'Prime Video', 'url': 'serie-15622-Romancero.html'}, {'name': 'Romancero', 'episode': 3, 'season': 1, 'date': '03-11-2023', 'country': 'Etats-Unis', 'channel': 'Prime Video', 'url': 'serie-15622-Romancero.html'}, {'name': 'Romancero', 'episode': 4, 'season': 1, 'date': '03-11-2023', 'country': 'Etats-Unis', 'channel': 'Prime Video', 'url': 'serie-15622-Romancero.html'}, {'name': 'Romancero', 'episode': 5, 'season': 1, 'date': '03-11-2023', 'country': 'Etats-Unis', 'channel': 'Prime Video', 'url': 'serie-15622-Romancero.html'}, {'name': 'Romancero', 'episode': 6, 'season': 1, 'date': '03-11-2023', 'country': 'Etats-Unis', 'channel': 'Prime Video', 'url': 'serie-15622-Romancero.html'}, {'name': 'Shining Vale', 'episode': 4, 'season': 2, 'date': '03-11-2023', 'country': 'Etats-Unis', 'channel': 'Starz', 'url': 'serie-13618-Shining-Vale.html'}, {'name': 'SOKO Leipzig', 'episode': 11, 'season': 24, 'date': '03-11-2023', 'country': 'Allemagne', 'channel': 'ZDF', 'url': 'serie-10240-SOKO-Leipzig.html'}, {'name': 'Solsidan', 'episode': 7, 'season': 8, 'date': '03-11-2023', 'country': 'Suède', 'channel': 'TV4', 'url': 'serie-2482-Solsidan.html'}, {'name': 'Terzi', 'episode': 1, 'season': 3, 'date': '03-11-2023', 'country': 'Etats-Unis', 'channel': 'Netflix', 'url': 'serie-15220-Terzi.html'}, {'name': 'Terzi', 'episode': 2, 'season': 3, 'date': '03-11-2023', 'country': 'Etats-Unis', 'channel': 'Netflix', 'url': 'serie-15220-Terzi.html'}, {'name': 'Terzi', 'episode': 3, 'season': 3, 'date': '03-11-2023', 'country': 'Etats-Unis', 'channel': 'Netflix', 'url': 'serie-15220-Terzi.html'}, {'name': 'Terzi', 'episode': 4, 'season': 3, 'date': '03-11-2023', 'country': 'Etats-Unis', 'channel': 'Netflix', 'url': 'serie-15220-Terzi.html'}, {'name': 'Terzi', 'episode': 5, 'season': 3, 'date': '03-11-2023', 'country': 'Etats-Unis', 'channel': 'Netflix', 'url': 'serie-15220-Terzi.html'}, {'name': 'Terzi', 'episode': 6, 'season': 3, 'date': '03-11-2023', 'country': 'Etats-Unis', 'channel': 'Netflix', 'url': 'serie-15220-Terzi.html'}, {'name': 'Terzi', 'episode': 7, 'season': 3, 'date': '03-11-2023', 'country': 'Etats-Unis', 'channel': 'Netflix', 'url': 'serie-15220-Terzi.html'}, {'name': 'Terzi', 'episode': 8, 'season': 3, 'date': '03-11-2023', 'country': 'Etats-Unis', 'channel': 'Netflix', 'url': 'serie-15220-Terzi.html'}, {'name': 'The Good Ship Murder', 'episode': 4, 'season': 1, 'date': '03-11-2023', 'country': 'Royaume-Uni', 'channel': 'Channel 5', 'url': 'serie-15666-The-Good-Ship-Murder.html'}, {'name': 'Transplant', 'episode': 5, 'season': 4, 'date': '03-11-2023', 'country': 'Canada', 'channel': 'CTV', 'url': 'serie-10635-Transplant.html'}, {'name': 'Un Si Grand Soleil', 'episode': 44, 'season': 6, 'date': '03-11-2023', 'country': 'France', 'channel': 'France 2', 'url': 'serie-7375-Un-Si-Grand-Soleil.html'}, {'name': 'Upload', 'episode': 5, 'season': 3, 'date': '03-11-2023', 'country': 'Etats-Unis', 'channel': 'Prime Video', 'url': 'serie-10765-Upload.html'}, {'name': 'Upload', 'episode': 6, 'season': 3, 'date': '03-11-2023', 'country': 'Etats-Unis', 'channel': 'Prime Video', 'url': 'serie-10765-Upload.html'}, {'name': 'All Rise', 'episode': 18, 'season': 3, 'date': '04-11-2023', 'country': 'Etats-Unis', 'channel': 'OWN', 'url': 'serie-9133-All-Rise.html'}, {'name': 'Boomer', 'episode': 10, 'season': 1, 'date': '04-11-2023', 'country': 'Belgique', 'channel': 'Één', 'url': 'serie-15588-Boomer.html'}, {'name': 'Billy the Kid', 'episode': 4, 'season': 2, 'date': '05-11-2023', 'country': 'Etats-Unis', 'channel': 'Epix', 'url': 'serie-13899-Billy-the-Kid.html'}, {'name': \"Bob's Burgers\", 'episode': 5, 'season': 14, 'date': '05-11-2023', 'country': 'Etats-Unis', 'channel': 'Fox', 'url': 'serie-453-Bob-s-Burgers.html'}, {'name': 'Entre Tierras', 'episode': 9, 'season': 1, 'date': '05-11-2023', 'country': 'Espagne', 'channel': 'ATRESplayer', 'url': 'serie-15670-Entre-Tierras.html'}, {'name': 'Family Guy', 'episode': 4, 'season': 22, 'date': '05-11-2023', 'country': 'Etats-Unis', 'channel': 'Fox', 'url': 'serie-413-Family-Guy.html'}, {'name': 'Fear the Walking Dead', 'episode': 9, 'season': 8, 'date': '05-11-2023', 'country': 'Etats-Unis', 'channel': 'AMC', 'url': 'serie-2057-Fear-the-Walking-Dead.html'}, {'name': 'Heartland (CA)', 'episode': 6, 'season': 17, 'date': '05-11-2023', 'country': 'Canada', 'channel': 'CBC', 'url': 'serie-939-Heartland-(CA).html'}, {'name': 'Krapopolis', 'episode': 7, 'season': 1, 'date': '05-11-2023', 'country': 'Etats-Unis', 'channel': 'Fox', 'url': 'serie-15101-Krapopolis.html'}, {'name': 'Lawmen: Bass Reeves', 'episode': 1, 'season': 1, 'date': '05-11-2023', 'country': 'Etats-Unis', 'channel': 'Paramount+', 'url': 'serie-15598-Lawmen-Bass-Reeves.html'}, {'name': 'Lawmen: Bass Reeves', 'episode': 2, 'season': 1, 'date': '05-11-2023', 'country': 'Etats-Unis', 'channel': 'Paramount+', 'url': 'serie-15598-Lawmen-Bass-Reeves.html'}, {'name': \"Les Mystères de l'amour\", 'episode': 13, 'season': 33, 'date': '05-11-2023', 'country': 'France', 'channel': 'TMC', 'url': 'serie-555-Les-Mysteres-de-l-amour.html'}, {'name': 'Rick and Morty', 'episode': 4, 'season': 7, 'date': '05-11-2023', 'country': 'Etats-Unis', 'channel': 'Adult Swim', 'url': 'serie-1628-Rick-and-Morty.html'}, {'name': 'SkyMed', 'episode': 6, 'season': 2, 'date': '05-11-2023', 'country': 'Canada', 'channel': 'CBC Gem', 'url': 'serie-14310-SkyMed.html'}, {'name': 'The Gilded Age', 'episode': 2, 'season': 2, 'date': '05-11-2023', 'country': 'Etats-Unis', 'channel': 'HBO', 'url': 'serie-13620-The-Gilded-Age.html'}, {'name': 'The Simpsons', 'episode': 5, 'season': 35, 'date': '05-11-2023', 'country': 'Etats-Unis', 'channel': 'Fox', 'url': 'serie-224-The-Simpsons.html'}, {'name': 'The Winter King', 'episode': 10, 'season': 1, 'date': '05-11-2023', 'country': 'Royaume-Uni', 'channel': 'ITVX', 'url': 'serie-15487-The-Winter-King.html'}, {'name': 'Found', 'episode': 6, 'season': 1, 'date': '07-11-2023', 'country': 'Etats-Unis', 'channel': 'NBC', 'url': 'serie-14723-Found.html'}, {'name': 'The Oval', 'episode': 4, 'season': 5, 'date': '07-11-2023', 'country': 'Etats-Unis', 'channel': 'BET', 'url': 'serie-9601-The-Oval.html'}, {'name': 'Black Cake', 'episode': 4, 'season': 1, 'date': '08-11-2023', 'country': 'Etats-Unis', 'channel': 'Hulu', 'url': 'serie-15614-Black-Cake.html'}, {'name': 'Blanca', 'episode': 6, 'season': 2, 'date': '08-11-2023', 'country': 'Italie', 'channel': 'Rai 1', 'url': 'serie-14708-Blanca.html'}, {'name': 'Children Ruin Everything', 'episode': 7, 'season': 3, 'date': '08-11-2023', 'country': 'Canada', 'channel': 'CTV', 'url': 'serie-13789-Children-Ruin-Everything.html'}, {'name': 'Chucky', 'episode': 6, 'season': 3, 'date': '08-11-2023', 'country': 'Etats-Unis', 'channel': 'Syfy', 'url': 'serie-13240-Chucky.html'}, {'name': \"Cooper's Bar\", 'episode': 6, 'season': 2, 'date': '08-11-2023', 'country': 'Etats-Unis', 'channel': 'AMC', 'url': 'serie-14480-Cooper-s-Bar.html'}, {'name': 'Culprits', 'episode': 1, 'season': 1, 'date': '08-11-2023', 'country': 'Etats-Unis', 'channel': 'Disney+', 'url': 'serie-15697-Culprits.html'}, {'name': 'Culprits', 'episode': 2, 'season': 1, 'date': '08-11-2023', 'country': 'Etats-Unis', 'channel': 'Disney+', 'url': 'serie-15697-Culprits.html'}, {'name': 'Culprits', 'episode': 3, 'season': 1, 'date': '08-11-2023', 'country': 'Etats-Unis', 'channel': 'Disney+', 'url': 'serie-15697-Culprits.html'}, {'name': 'Culprits', 'episode': 4, 'season': 1, 'date': '08-11-2023', 'country': 'Etats-Unis', 'channel': 'Disney+', 'url': 'serie-15697-Culprits.html'}, {'name': 'Culprits', 'episode': 5, 'season': 1, 'date': '08-11-2023', 'country': 'Etats-Unis', 'channel': 'Disney+', 'url': 'serie-15697-Culprits.html'}, {'name': 'Culprits', 'episode': 6, 'season': 1, 'date': '08-11-2023', 'country': 'Etats-Unis', 'channel': 'Disney+', 'url': 'serie-15697-Culprits.html'}, {'name': 'Culprits', 'episode': 7, 'season': 1, 'date': '08-11-2023', 'country': 'Etats-Unis', 'channel': 'Disney+', 'url': 'serie-15697-Culprits.html'}, {'name': 'Culprits', 'episode': 8, 'season': 1, 'date': '08-11-2023', 'country': 'Etats-Unis', 'channel': 'Disney+', 'url': 'serie-15697-Culprits.html'}, {'name': 'Hotel Mondial', 'episode': 6, 'season': 2, 'date': '08-11-2023', 'country': 'Allemagne', 'channel': 'ZDF', 'url': 'serie-14993-Hotel-Mondial.html'}, {'name': 'Hudson & Rex', 'episode': 6, 'season': 6, 'date': '08-11-2023', 'country': 'Canada', 'channel': 'Citytv', 'url': 'serie-8391-Hudson--Rex.html'}, {'name': 'Inspirez expirez', 'episode': 6, 'season': 1, 'date': '08-11-2023', 'country': 'Canada', 'channel': 'CraveTV', 'url': 'serie-15707-Inspirez-expirez.html'}, {'name': 'Inspirez expirez', 'episode': 7, 'season': 1, 'date': '08-11-2023', 'country': 'Canada', 'channel': 'CraveTV', 'url': 'serie-15707-Inspirez-expirez.html'}, {'name': 'Robyn Hood', 'episode': 7, 'season': 1, 'date': '08-11-2023', 'country': 'Canada', 'channel': 'Global', 'url': 'serie-15665-Robyn-Hood.html'}, {'name': 'Shetland', 'episode': 2, 'season': 8, 'date': '08-11-2023', 'country': 'Royaume-Uni', 'channel': 'BBC One', 'url': 'serie-1139-Shetland.html'}, {'name': 'Sistas', 'episode': 15, 'season': 6, 'date': '08-11-2023', 'country': 'Etats-Unis', 'channel': 'BET', 'url': 'serie-9954-Sistas.html'}, {'name': 'SurrealEstate', 'episode': 6, 'season': 2, 'date': '08-11-2023', 'country': 'Etats-Unis', 'channel': 'Syfy', 'url': 'serie-13085-SurrealEstate.html'}, {'name': 'The Buccaneers (2023)', 'episode': 1, 'season': 1, 'date': '08-11-2023', 'country': 'Etats-Unis', 'channel': 'Apple TV+', 'url': 'serie-15529-The-Buccaneers-(2023).html'}, {'name': 'The Buccaneers (2023)', 'episode': 2, 'season': 1, 'date': '08-11-2023', 'country': 'Etats-Unis', 'channel': 'Apple TV+', 'url': 'serie-15529-The-Buccaneers-(2023).html'}, {'name': 'The Buccaneers (2023)', 'episode': 3, 'season': 1, 'date': '08-11-2023', 'country': 'Etats-Unis', 'channel': 'Apple TV+', 'url': 'serie-15529-The-Buccaneers-(2023).html'}, {'name': 'The Morning Show', 'episode': 10, 'season': 3, 'date': '08-11-2023', 'country': 'Etats-Unis', 'channel': 'Apple TV+', 'url': 'serie-9906-The-Morning-Show.html'}, {'name': 'The Santa Clauses', 'episode': 1, 'season': 2, 'date': '08-11-2023', 'country': 'Etats-Unis', 'channel': 'Disney+', 'url': 'serie-14533-The-Santa-Clauses.html'}, {'name': 'The Santa Clauses', 'episode': 2, 'season': 2, 'date': '08-11-2023', 'country': 'Etats-Unis', 'channel': 'Disney+', 'url': 'serie-14533-The-Santa-Clauses.html'}, {'name': 'Vigilante', 'episode': 1, 'season': 1, 'date': '08-11-2023', 'country': 'Etats-Unis', 'channel': 'Disney+', 'url': 'serie-15703-Vigilante.html'}, {'name': 'Young Dylan', 'episode': 10, 'season': 4, 'date': '08-11-2023', 'country': 'Etats-Unis', 'channel': 'Nickelodeon', 'url': 'serie-10619-Young-Dylan.html'}, {'name': 'All Creatures Great and Small (2020)', 'episode': 6, 'season': 4, 'date': '09-11-2023', 'country': 'Royaume-Uni', 'channel': 'Channel 5', 'url': 'serie-11765-All-Creatures-Great-and-Small-(2020).html'}, {'name': 'À La Carte', 'episode': 9, 'season': 2, 'date': '09-11-2023', 'country': 'Etats-Unis', 'channel': 'ALLBLK', 'url': 'serie-14106-A-La-Carte.html'}, {'name': 'BlackBerry', 'episode': 1, 'season': 1, 'date': '09-11-2023', 'country': 'Canada', 'channel': 'CBC', 'url': 'serie-15708-BlackBerry.html'}, {'name': 'Bros', 'episode': 1, 'season': 1, 'date': '09-11-2023', 'country': 'Etats-Unis', 'channel': 'Netflix', 'url': 'serie-15695-Bros.html'}, {'name': 'Doom Patrol', 'episode': 12, 'season': 4, 'date': '09-11-2023', 'country': 'Etats-Unis', 'channel': 'HBO Max', 'url': 'serie-7951-Doom-Patrol.html'}, {'name': 'Frasier (2023)', 'episode': 6, 'season': 1, 'date': '09-11-2023', 'country': 'Etats-Unis', 'channel': 'Paramount+', 'url': 'serie-15573-Frasier-(2023).html'}, {'name': 'Kingdom Business', 'episode': 2, 'season': 2, 'date': '09-11-2023', 'country': 'Etats-Unis', 'channel': 'BET+', 'url': 'serie-14195-Kingdom-Business.html'}, {'name': 'La Mesias', 'episode': 6, 'season': 1, 'date': '09-11-2023', 'country': 'Espagne', 'channel': 'Moviestar+', 'url': 'serie-15635-La-Mesias.html'}, {'name': 'Loki', 'episode': 6, 'season': 2, 'date': '09-11-2023', 'country': 'Etats-Unis', 'channel': 'Disney+', 'url': 'serie-12821-Loki.html'}, {'name': 'Master Crimes', 'episode': 1, 'season': 1, 'date': '09-11-2023', 'country': 'France', 'channel': 'TF1', 'url': 'serie-15690-Master-Crimes.html'}, {'name': 'Master Crimes', 'episode': 2, 'season': 1, 'date': '09-11-2023', 'country': 'France', 'channel': 'TF1', 'url': 'serie-15690-Master-Crimes.html'}, {'name': 'Rap Sh!t', 'episode': 1, 'season': 2, 'date': '09-11-2023', 'country': 'Etats-Unis', 'channel': 'HBO Max', 'url': 'serie-14321-Rap-Sht.html'}, {'name': 'Rap Sh!t', 'episode': 2, 'season': 2, 'date': '09-11-2023', 'country': 'Etats-Unis', 'channel': 'HBO Max', 'url': 'serie-14321-Rap-Sht.html'}, {'name': 'The Vanishing Triangle', 'episode': 4, 'season': 1, 'date': '09-11-2023', 'country': 'Etats-Unis', 'channel': 'SundanceTV', 'url': 'serie-15619-The-Vanishing-Triangle.html'}, {'name': 'At the Moment (Ci Shi Ci Ke)', 'episode': 1, 'season': 1, 'date': '10-11-2023', 'country': 'Etats-Unis', 'channel': 'Netflix', 'url': 'serie-15702-At-the-Moment-(Ci-Shi-Ci-Ke).html'}, {'name': 'At the Moment (Ci Shi Ci Ke)', 'episode': 2, 'season': 1, 'date': '10-11-2023', 'country': 'Etats-Unis', 'channel': 'Netflix', 'url': 'serie-15702-At-the-Moment-(Ci-Shi-Ci-Ke).html'}, {'name': 'At the Moment (Ci Shi Ci Ke)', 'episode': 3, 'season': 1, 'date': '10-11-2023', 'country': 'Etats-Unis', 'channel': 'Netflix', 'url': 'serie-15702-At-the-Moment-(Ci-Shi-Ci-Ke).html'}, {'name': 'At the Moment (Ci Shi Ci Ke)', 'episode': 4, 'season': 1, 'date': '10-11-2023', 'country': 'Etats-Unis', 'channel': 'Netflix', 'url': 'serie-15702-At-the-Moment-(Ci-Shi-Ci-Ke).html'}, {'name': 'At the Moment (Ci Shi Ci Ke)', 'episode': 5, 'season': 1, 'date': '10-11-2023', 'country': 'Etats-Unis', 'channel': 'Netflix', 'url': 'serie-15702-At-the-Moment-(Ci-Shi-Ci-Ke).html'}, {'name': 'At the Moment (Ci Shi Ci Ke)', 'episode': 6, 'season': 1, 'date': '10-11-2023', 'country': 'Etats-Unis', 'channel': 'Netflix', 'url': 'serie-15702-At-the-Moment-(Ci-Shi-Ci-Ke).html'}, {'name': 'At the Moment (Ci Shi Ci Ke)', 'episode': 7, 'season': 1, 'date': '10-11-2023', 'country': 'Etats-Unis', 'channel': 'Netflix', 'url': 'serie-15702-At-the-Moment-(Ci-Shi-Ci-Ke).html'}, {'name': 'At the Moment (Ci Shi Ci Ke)', 'episode': 8, 'season': 1, 'date': '10-11-2023', 'country': 'Etats-Unis', 'channel': 'Netflix', 'url': 'serie-15702-At-the-Moment-(Ci-Shi-Ci-Ke).html'}, {'name': 'At the Moment (Ci Shi Ci Ke)', 'episode': 9, 'season': 1, 'date': '10-11-2023', 'country': 'Etats-Unis', 'channel': 'Netflix', 'url': 'serie-15702-At-the-Moment-(Ci-Shi-Ci-Ke).html'}, {'name': 'At the Moment (Ci Shi Ci Ke)', 'episode': 10, 'season': 1, 'date': '10-11-2023', 'country': 'Etats-Unis', 'channel': 'Netflix', 'url': 'serie-15702-At-the-Moment-(Ci-Shi-Ci-Ke).html'}, {'name': 'Bosch: Legacy', 'episode': 9, 'season': 2, 'date': '10-11-2023', 'country': 'Etats-Unis', 'channel': 'Amazon Freevee', 'url': 'serie-14009-Bosch-Legacy.html'}, {'name': 'Bosch: Legacy', 'episode': 10, 'season': 2, 'date': '10-11-2023', 'country': 'Etats-Unis', 'channel': 'Amazon Freevee', 'url': 'serie-14009-Bosch-Legacy.html'}, {'name': 'Fellow Travelers', 'episode': 3, 'season': 1, 'date': '10-11-2023', 'country': 'Etats-Unis', 'channel': 'Showtime', 'url': 'serie-15528-Fellow-Travelers.html'}, {'name': 'For All Mankind', 'episode': 1, 'season': 4, 'date': '10-11-2023', 'country': 'Etats-Unis', 'channel': 'Apple TV+', 'url': 'serie-9901-For-All-Mankind.html'}, {'name': 'Goosebumps (2023)', 'episode': 9, 'season': 1, 'date': '10-11-2023', 'country': 'Etats-Unis', 'channel': 'Disney+', 'url': 'serie-15599-Goosebumps-(2023).html'}, {'name': 'Invincible', 'episode': 2, 'season': 2, 'date': '10-11-2023', 'country': 'Etats-Unis', 'channel': 'Prime Video', 'url': 'serie-12630-Invincible.html'}, {'name': 'Lessons In Chemistry', 'episode': 6, 'season': 1, 'date': '10-11-2023', 'country': 'Etats-Unis', 'channel': 'Apple TV+', 'url': 'serie-15376-Lessons-In-Chemistry.html'}, {'name': 'NCIS: Sydney', 'episode': 1, 'season': 1, 'date': '10-11-2023', 'country': 'Etats-Unis', 'channel': 'Paramount+', 'url': 'serie-15620-NCIS-Sydney.html'}, {'name': 'Power Book IV: Force', 'episode': 10, 'season': 2, 'date': '10-11-2023', 'country': 'Etats-Unis', 'channel': 'Starz', 'url': 'serie-13586-Power-Book-IV-Force.html'}, {'name': 'Shining Vale', 'episode': 5, 'season': 2, 'date': '10-11-2023', 'country': 'Etats-Unis', 'channel': 'Starz', 'url': 'serie-13618-Shining-Vale.html'}, {'name': 'SOKO Leipzig', 'episode': 12, 'season': 24, 'date': '10-11-2023', 'country': 'Allemagne', 'channel': 'ZDF', 'url': 'serie-10240-SOKO-Leipzig.html'}, {'name': 'Solsidan', 'episode': 8, 'season': 8, 'date': '10-11-2023', 'country': 'Suède', 'channel': 'TV4', 'url': 'serie-2482-Solsidan.html'}, {'name': 'The Curse (2023)', 'episode': 1, 'season': 1, 'date': '10-11-2023', 'country': 'Etats-Unis', 'channel': 'Showtime on Demand', 'url': 'serie-15656-The-Curse-(2023).html'}, {'name': 'The Good Ship Murder', 'episode': 5, 'season': 1, 'date': '10-11-2023', 'country': 'Royaume-Uni', 'channel': 'Channel 5', 'url': 'serie-15666-The-Good-Ship-Murder.html'}, {'name': 'Transplant', 'episode': 6, 'season': 4, 'date': '10-11-2023', 'country': 'Canada', 'channel': 'CTV', 'url': 'serie-10635-Transplant.html'}, {'name': 'Upload', 'episode': 7, 'season': 3, 'date': '10-11-2023', 'country': 'Etats-Unis', 'channel': 'Prime Video', 'url': 'serie-10765-Upload.html'}, {'name': 'Upload', 'episode': 8, 'season': 3, 'date': '10-11-2023', 'country': 'Etats-Unis', 'channel': 'Prime Video', 'url': 'serie-10765-Upload.html'}, {'name': 'All Rise', 'episode': 19, 'season': 3, 'date': '11-11-2023', 'country': 'Etats-Unis', 'channel': 'OWN', 'url': 'serie-9133-All-Rise.html'}, {'name': 'Beacon 23', 'episode': 1, 'season': 1, 'date': '12-11-2023', 'country': 'Etats-Unis', 'channel': 'Epix', 'url': 'serie-15648-Beacon-23.html'}, {'name': \"Bob's Burgers\", 'episode': 6, 'season': 14, 'date': '12-11-2023', 'country': 'Etats-Unis', 'channel': 'Fox', 'url': 'serie-453-Bob-s-Burgers.html'}, {'name': 'Entre Tierras', 'episode': 10, 'season': 1, 'date': '12-11-2023', 'country': 'Espagne', 'channel': 'ATRESplayer', 'url': 'serie-15670-Entre-Tierras.html'}, {'name': 'Family Guy', 'episode': 5, 'season': 22, 'date': '12-11-2023', 'country': 'Etats-Unis', 'channel': 'Fox', 'url': 'serie-413-Family-Guy.html'}, {'name': 'Fear the Walking Dead', 'episode': 10, 'season': 8, 'date': '12-11-2023', 'country': 'Etats-Unis', 'channel': 'AMC', 'url': 'serie-2057-Fear-the-Walking-Dead.html'}, {'name': 'Heartland (CA)', 'episode': 7, 'season': 17, 'date': '12-11-2023', 'country': 'Canada', 'channel': 'CBC', 'url': 'serie-939-Heartland-(CA).html'}, {'name': 'Krapopolis', 'episode': 8, 'season': 1, 'date': '12-11-2023', 'country': 'Etats-Unis', 'channel': 'Fox', 'url': 'serie-15101-Krapopolis.html'}, {'name': \"Les Mystères de l'amour\", 'episode': 14, 'season': 33, 'date': '12-11-2023', 'country': 'France', 'channel': 'TMC', 'url': 'serie-555-Les-Mysteres-de-l-amour.html'}, {'name': 'Rick and Morty', 'episode': 5, 'season': 7, 'date': '12-11-2023', 'country': 'Etats-Unis', 'channel': 'Adult Swim', 'url': 'serie-1628-Rick-and-Morty.html'}, {'name': 'SkyMed', 'episode': 7, 'season': 2, 'date': '12-11-2023', 'country': 'Canada', 'channel': 'CBC Gem', 'url': 'serie-14310-SkyMed.html'}, {'name': 'The Gilded Age', 'episode': 3, 'season': 2, 'date': '12-11-2023', 'country': 'Etats-Unis', 'channel': 'HBO', 'url': 'serie-13620-The-Gilded-Age.html'}, {'name': 'The Simpsons', 'episode': 6, 'season': 35, 'date': '12-11-2023', 'country': 'Etats-Unis', 'channel': 'Fox', 'url': 'serie-224-The-Simpsons.html'}, {'name': 'A Murder at the End of the World', 'episode': 1, 'season': 1, 'date': '14-11-2023', 'country': 'Etats-Unis', 'channel': 'Hulu', 'url': 'serie-15464-A-Murder-at-the-End-of-the-World.html'}, {'name': 'A Murder at the End of the World', 'episode': 2, 'season': 1, 'date': '14-11-2023', 'country': 'Etats-Unis', 'channel': 'Hulu', 'url': 'serie-15464-A-Murder-at-the-End-of-the-World.html'}, {'name': 'DNA do Crime', 'episode': 1, 'season': 1, 'date': '14-11-2023', 'country': 'Etats-Unis', 'channel': 'Netflix', 'url': 'serie-15699-DNA-do-Crime.html'}, {'name': 'Found', 'episode': 7, 'season': 1, 'date': '14-11-2023', 'country': 'Etats-Unis', 'channel': 'NBC', 'url': 'serie-14723-Found.html'}, {'name': 'Suburræterna', 'episode': 1, 'season': 1, 'date': '14-11-2023', 'country': 'Etats-Unis', 'channel': 'Netflix', 'url': 'serie-15649-Suburraeterna.html'}, {'name': 'Black Cake', 'episode': 5, 'season': 1, 'date': '15-11-2023', 'country': 'Etats-Unis', 'channel': 'Hulu', 'url': 'serie-15614-Black-Cake.html'}, {'name': 'Chucky', 'episode': 7, 'season': 3, 'date': '15-11-2023', 'country': 'Etats-Unis', 'channel': 'Syfy', 'url': 'serie-13240-Chucky.html'}, {'name': 'Deutsches Haus', 'episode': 1, 'season': 1, 'date': '15-11-2023', 'country': 'Etats-Unis', 'channel': 'Disney+', 'url': 'serie-15601-Deutsches-Haus.html'}, {'name': 'Hotel Mondial', 'episode': 7, 'season': 2, 'date': '15-11-2023', 'country': 'Allemagne', 'channel': 'ZDF', 'url': 'serie-14993-Hotel-Mondial.html'}, {'name': 'Informacja zwrotna', 'episode': 1, 'season': 1, 'date': '15-11-2023', 'country': 'Etats-Unis', 'channel': 'Netflix', 'url': 'serie-15704-Informacja-zwrotna.html'}, {'name': 'Inspirez expirez', 'episode': 8, 'season': 1, 'date': '15-11-2023', 'country': 'Canada', 'channel': 'CraveTV', 'url': 'serie-15707-Inspirez-expirez.html'}, {'name': 'Inspirez expirez', 'episode': 9, 'season': 1, 'date': '15-11-2023', 'country': 'Canada', 'channel': 'CraveTV', 'url': 'serie-15707-Inspirez-expirez.html'}, {'name': 'Inspirez expirez', 'episode': 10, 'season': 1, 'date': '15-11-2023', 'country': 'Canada', 'channel': 'CraveTV', 'url': 'serie-15707-Inspirez-expirez.html'}, {'name': 'Magnum P.I. (2018)', 'episode': 16, 'season': 5, 'date': '15-11-2023', 'country': 'Etats-Unis', 'channel': 'NBC', 'url': 'serie-7010-Magnum-PI-(2018).html'}, {'name': 'Quantum Leap (2022)', 'episode': 6, 'season': 2, 'date': '15-11-2023', 'country': 'Etats-Unis', 'channel': 'NBC', 'url': 'serie-14394-Quantum-Leap-(2022).html'}, {'name': 'Robyn Hood', 'episode': 8, 'season': 1, 'date': '15-11-2023', 'country': 'Canada', 'channel': 'Global', 'url': 'serie-15665-Robyn-Hood.html'}, {'name': 'Sahsiyet', 'episode': 1, 'season': 2, 'date': '15-11-2023', 'country': 'Turquie', 'channel': 'Puhu TV', 'url': 'serie-8024-Sahsiyet.html'}, {'name': 'Shetland', 'episode': 3, 'season': 8, 'date': '15-11-2023', 'country': 'Royaume-Uni', 'channel': 'BBC One', 'url': 'serie-1139-Shetland.html'}, {'name': 'SurrealEstate', 'episode': 7, 'season': 2, 'date': '15-11-2023', 'country': 'Etats-Unis', 'channel': 'Syfy', 'url': 'serie-13085-SurrealEstate.html'}, {'name': 'The Buccaneers (2023)', 'episode': 4, 'season': 1, 'date': '15-11-2023', 'country': 'Etats-Unis', 'channel': 'Apple TV+', 'url': 'serie-15529-The-Buccaneers-(2023).html'}, {'name': 'The Lazarus Project', 'episode': 1, 'season': 2, 'date': '15-11-2023', 'country': 'Royaume-Uni', 'channel': 'Sky1', 'url': 'serie-14258-The-Lazarus-Project.html'}, {'name': 'The Santa Clauses', 'episode': 3, 'season': 2, 'date': '15-11-2023', 'country': 'Etats-Unis', 'channel': 'Disney+', 'url': 'serie-14533-The-Santa-Clauses.html'}, {'name': 'Tout va bien', 'episode': 1, 'season': 1, 'date': '15-11-2023', 'country': 'Etats-Unis', 'channel': 'Disney+', 'url': 'serie-15694-Tout-va-bien.html'}, {'name': 'Tout va bien', 'episode': 2, 'season': 1, 'date': '15-11-2023', 'country': 'Etats-Unis', 'channel': 'Disney+', 'url': 'serie-15694-Tout-va-bien.html'}, {'name': 'Tout va bien', 'episode': 3, 'season': 1, 'date': '15-11-2023', 'country': 'Etats-Unis', 'channel': 'Disney+', 'url': 'serie-15694-Tout-va-bien.html'}, {'name': 'Tout va bien', 'episode': 4, 'season': 1, 'date': '15-11-2023', 'country': 'Etats-Unis', 'channel': 'Disney+', 'url': 'serie-15694-Tout-va-bien.html'}, {'name': 'Tout va bien', 'episode': 5, 'season': 1, 'date': '15-11-2023', 'country': 'Etats-Unis', 'channel': 'Disney+', 'url': 'serie-15694-Tout-va-bien.html'}, {'name': 'Tout va bien', 'episode': 6, 'season': 1, 'date': '15-11-2023', 'country': 'Etats-Unis', 'channel': 'Disney+', 'url': 'serie-15694-Tout-va-bien.html'}, {'name': 'Tout va bien', 'episode': 7, 'season': 1, 'date': '15-11-2023', 'country': 'Etats-Unis', 'channel': 'Disney+', 'url': 'serie-15694-Tout-va-bien.html'}, {'name': 'Tout va bien', 'episode': 8, 'season': 1, 'date': '15-11-2023', 'country': 'Etats-Unis', 'channel': 'Disney+', 'url': 'serie-15694-Tout-va-bien.html'}, {'name': 'Young Dylan', 'episode': 11, 'season': 4, 'date': '15-11-2023', 'country': 'Etats-Unis', 'channel': 'Nickelodeon', 'url': 'serie-10619-Young-Dylan.html'}, {'name': 'Anderson Spider Silva', 'episode': 1, 'season': 1, 'date': '16-11-2023', 'country': 'Etats-Unis', 'channel': 'Paramount+', 'url': 'serie-15692-Anderson-Spider-Silva.html'}, {'name': 'Anderson Spider Silva', 'episode': 2, 'season': 1, 'date': '16-11-2023', 'country': 'Etats-Unis', 'channel': 'Paramount+', 'url': 'serie-15692-Anderson-Spider-Silva.html'}, {'name': 'Anderson Spider Silva', 'episode': 3, 'season': 1, 'date': '16-11-2023', 'country': 'Etats-Unis', 'channel': 'Paramount+', 'url': 'serie-15692-Anderson-Spider-Silva.html'}, {'name': 'Anderson Spider Silva', 'episode': 4, 'season': 1, 'date': '16-11-2023', 'country': 'Etats-Unis', 'channel': 'Paramount+', 'url': 'serie-15692-Anderson-Spider-Silva.html'}, {'name': 'À La Carte', 'episode': 10, 'season': 2, 'date': '16-11-2023', 'country': 'Etats-Unis', 'channel': 'ALLBLK', 'url': 'serie-14106-A-La-Carte.html'}, {'name': 'BlackBerry', 'episode': 2, 'season': 1, 'date': '16-11-2023', 'country': 'Canada', 'channel': 'CBC', 'url': 'serie-15708-BlackBerry.html'}, {'name': 'Frasier (2023)', 'episode': 7, 'season': 1, 'date': '16-11-2023', 'country': 'Etats-Unis', 'channel': 'Paramount+', 'url': 'serie-15573-Frasier-(2023).html'}, {'name': 'Julia (2022)', 'episode': 1, 'season': 2, 'date': '16-11-2023', 'country': 'Etats-Unis', 'channel': 'HBO Max', 'url': 'serie-13897-Julia-(2022).html'}, {'name': 'Julia (2022)', 'episode': 2, 'season': 2, 'date': '16-11-2023', 'country': 'Etats-Unis', 'channel': 'HBO Max', 'url': 'serie-13897-Julia-(2022).html'}, {'name': 'Julia (2022)', 'episode': 3, 'season': 2, 'date': '16-11-2023', 'country': 'Etats-Unis', 'channel': 'HBO Max', 'url': 'serie-13897-Julia-(2022).html'}, {'name': 'Kingdom Business', 'episode': 3, 'season': 2, 'date': '16-11-2023', 'country': 'Etats-Unis', 'channel': 'BET+', 'url': 'serie-14195-Kingdom-Business.html'}, {'name': 'La Mesias', 'episode': 7, 'season': 1, 'date': '16-11-2023', 'country': 'Espagne', 'channel': 'Moviestar+', 'url': 'serie-15635-La-Mesias.html'}, {'name': 'Le Voyageur', 'episode': 5, 'season': 2, 'date': '16-11-2023', 'country': 'France', 'channel': 'France 3', 'url': 'serie-15720-Le-Voyageur.html'}, {'name': 'Master Crimes', 'episode': 3, 'season': 1, 'date': '16-11-2023', 'country': 'France', 'channel': 'TF1', 'url': 'serie-15690-Master-Crimes.html'}, {'name': 'Master Crimes', 'episode': 4, 'season': 1, 'date': '16-11-2023', 'country': 'France', 'channel': 'TF1', 'url': 'serie-15690-Master-Crimes.html'}, {'name': 'Rap Sh!t', 'episode': 3, 'season': 2, 'date': '16-11-2023', 'country': 'Etats-Unis', 'channel': 'HBO Max', 'url': 'serie-14321-Rap-Sht.html'}, {'name': 'Terror Lake Drive', 'episode': 1, 'season': 3, 'date': '16-11-2023', 'country': 'Etats-Unis', 'channel': 'ALLBLK', 'url': 'serie-12217-Terror-Lake-Drive.html'}, {'name': 'The Crown', 'episode': 1, 'season': 6, 'date': '16-11-2023', 'country': 'Etats-Unis', 'channel': 'Netflix', 'url': 'serie-2524-The-Crown.html'}, {'name': 'The Vanishing Triangle', 'episode': 5, 'season': 1, 'date': '16-11-2023', 'country': 'Etats-Unis', 'channel': 'SundanceTV', 'url': 'serie-15619-The-Vanishing-Triangle.html'}, {'name': 'Un professore', 'episode': 1, 'season': 2, 'date': '16-11-2023', 'country': 'Italie', 'channel': 'Rai 1', 'url': 'serie-13644-Un-professore.html'}, {'name': 'Fellow Travelers', 'episode': 4, 'season': 1, 'date': '17-11-2023', 'country': 'Etats-Unis', 'channel': 'Showtime', 'url': 'serie-15528-Fellow-Travelers.html'}, {'name': 'For All Mankind', 'episode': 2, 'season': 4, 'date': '17-11-2023', 'country': 'Etats-Unis', 'channel': 'Apple TV+', 'url': 'serie-9901-For-All-Mankind.html'}, {'name': 'Goosebumps (2023)', 'episode': 10, 'season': 1, 'date': '17-11-2023', 'country': 'Etats-Unis', 'channel': 'Disney+', 'url': 'serie-15599-Goosebumps-(2023).html'}, {'name': 'Heartbeats', 'episode': 1, 'season': 2, 'date': '17-11-2023', 'country': 'Suède', 'channel': 'TV4', 'url': 'serie-15710-Heartbeats.html'}, {'name': 'Invincible', 'episode': 3, 'season': 2, 'date': '17-11-2023', 'country': 'Etats-Unis', 'channel': 'Prime Video', 'url': 'serie-12630-Invincible.html'}, {'name': 'Lessons In Chemistry', 'episode': 7, 'season': 1, 'date': '17-11-2023', 'country': 'Etats-Unis', 'channel': 'Apple TV+', 'url': 'serie-15376-Lessons-In-Chemistry.html'}, {'name': 'Monarch: Legacy of Monsters', 'episode': 1, 'season': 1, 'date': '17-11-2023', 'country': 'Etats-Unis', 'channel': 'Apple TV+', 'url': 'serie-15603-Monarch-Legacy-of-Monsters.html'}, {'name': 'Monarch: Legacy of Monsters', 'episode': 2, 'season': 1, 'date': '17-11-2023', 'country': 'Etats-Unis', 'channel': 'Apple TV+', 'url': 'serie-15603-Monarch-Legacy-of-Monsters.html'}, {'name': 'NCIS: Sydney', 'episode': 2, 'season': 1, 'date': '17-11-2023', 'country': 'Etats-Unis', 'channel': 'Paramount+', 'url': 'serie-15620-NCIS-Sydney.html'}, {'name': 'Ojitos de huevo', 'episode': 1, 'season': 1, 'date': '17-11-2023', 'country': 'Etats-Unis', 'channel': 'Netflix', 'url': 'serie-15693-Ojitos-de-huevo.html'}, {'name': 'Sagrada familia', 'episode': 1, 'season': 2, 'date': '17-11-2023', 'country': 'Etats-Unis', 'channel': 'Netflix', 'url': 'serie-14637-Sagrada-familia.html'}, {'name': 'Shining Vale', 'episode': 6, 'season': 2, 'date': '17-11-2023', 'country': 'Etats-Unis', 'channel': 'Starz', 'url': 'serie-13618-Shining-Vale.html'}, {'name': 'SOKO Leipzig', 'episode': 13, 'season': 24, 'date': '17-11-2023', 'country': 'Allemagne', 'channel': 'ZDF', 'url': 'serie-10240-SOKO-Leipzig.html'}, {'name': 'Solsidan', 'episode': 9, 'season': 8, 'date': '17-11-2023', 'country': 'Suède', 'channel': 'TV4', 'url': 'serie-2482-Solsidan.html'}, {'name': 'Sort Of', 'episode': 1, 'season': 3, 'date': '17-11-2023', 'country': 'Canada', 'channel': 'CBC Gem', 'url': 'serie-13163-Sort-Of.html'}, {'name': 'The Curse (2023)', 'episode': 2, 'season': 1, 'date': '17-11-2023', 'country': 'Etats-Unis', 'channel': 'Showtime on Demand', 'url': 'serie-15656-The-Curse-(2023).html'}, {'name': 'The Good Ship Murder', 'episode': 6, 'season': 1, 'date': '17-11-2023', 'country': 'Royaume-Uni', 'channel': 'Channel 5', 'url': 'serie-15666-The-Good-Ship-Murder.html'}, {'name': 'Transplant', 'episode': 7, 'season': 4, 'date': '17-11-2023', 'country': 'Canada', 'channel': 'CTV', 'url': 'serie-10635-Transplant.html'}, {'name': 'All Rise', 'episode': 20, 'season': 3, 'date': '18-11-2023', 'country': 'Etats-Unis', 'channel': 'OWN', 'url': 'serie-9133-All-Rise.html'}, {'name': 'Beacon 23', 'episode': 2, 'season': 1, 'date': '19-11-2023', 'country': 'Etats-Unis', 'channel': 'Epix', 'url': 'serie-15648-Beacon-23.html'}, {'name': 'Fear the Walking Dead', 'episode': 11, 'season': 8, 'date': '19-11-2023', 'country': 'Etats-Unis', 'channel': 'AMC', 'url': 'serie-2057-Fear-the-Walking-Dead.html'}, {'name': 'Fear the Walking Dead', 'episode': 12, 'season': 8, 'date': '19-11-2023', 'country': 'Etats-Unis', 'channel': 'AMC', 'url': 'serie-2057-Fear-the-Walking-Dead.html'}, {'name': 'Heartland (CA)', 'episode': 8, 'season': 17, 'date': '19-11-2023', 'country': 'Canada', 'channel': 'CBC', 'url': 'serie-939-Heartland-(CA).html'}, {'name': 'Krapopolis', 'episode': 9, 'season': 1, 'date': '19-11-2023', 'country': 'Etats-Unis', 'channel': 'Fox', 'url': 'serie-15101-Krapopolis.html'}, {'name': \"Les Mystères de l'amour\", 'episode': 15, 'season': 33, 'date': '19-11-2023', 'country': 'France', 'channel': 'TMC', 'url': 'serie-555-Les-Mysteres-de-l-amour.html'}, {'name': 'Rick and Morty', 'episode': 6, 'season': 7, 'date': '19-11-2023', 'country': 'Etats-Unis', 'channel': 'Adult Swim', 'url': 'serie-1628-Rick-and-Morty.html'}, {'name': 'The Gilded Age', 'episode': 4, 'season': 2, 'date': '19-11-2023', 'country': 'Etats-Unis', 'channel': 'HBO', 'url': 'serie-13620-The-Gilded-Age.html'}, {'name': 'A Murder at the End of the World', 'episode': 3, 'season': 1, 'date': '21-11-2023', 'country': 'Etats-Unis', 'channel': 'Hulu', 'url': 'serie-15464-A-Murder-at-the-End-of-the-World.html'}, {'name': 'Fargo', 'episode': 1, 'season': 5, 'date': '21-11-2023', 'country': 'Etats-Unis', 'channel': 'FX', 'url': 'serie-1694-Fargo.html'}, {'name': 'Fargo', 'episode': 2, 'season': 5, 'date': '21-11-2023', 'country': 'Etats-Unis', 'channel': 'FX', 'url': 'serie-1694-Fargo.html'}, {'name': 'Found', 'episode': 8, 'season': 1, 'date': '21-11-2023', 'country': 'Etats-Unis', 'channel': 'NBC', 'url': 'serie-14723-Found.html'}, {'name': 'Black Cake', 'episode': 6, 'season': 1, 'date': '22-11-2023', 'country': 'Etats-Unis', 'channel': 'Hulu', 'url': 'serie-15614-Black-Cake.html'}, {'name': 'Chucky', 'episode': 8, 'season': 3, 'date': '22-11-2023', 'country': 'Etats-Unis', 'channel': 'Syfy', 'url': 'serie-13240-Chucky.html'}, {'name': 'Magnum P.I. (2018)', 'episode': 17, 'season': 5, 'date': '22-11-2023', 'country': 'Etats-Unis', 'channel': 'NBC', 'url': 'serie-7010-Magnum-PI-(2018).html'}, {'name': 'Magnum P.I. (2018)', 'episode': 18, 'season': 5, 'date': '22-11-2023', 'country': 'Etats-Unis', 'channel': 'NBC', 'url': 'serie-7010-Magnum-PI-(2018).html'}, {'name': 'SurrealEstate', 'episode': 8, 'season': 2, 'date': '22-11-2023', 'country': 'Etats-Unis', 'channel': 'Syfy', 'url': 'serie-13085-SurrealEstate.html'}, {'name': 'The Buccaneers (2023)', 'episode': 5, 'season': 1, 'date': '22-11-2023', 'country': 'Etats-Unis', 'channel': 'Apple TV+', 'url': 'serie-15529-The-Buccaneers-(2023).html'}, {'name': 'The Santa Clauses', 'episode': 4, 'season': 2, 'date': '22-11-2023', 'country': 'Etats-Unis', 'channel': 'Disney+', 'url': 'serie-14533-The-Santa-Clauses.html'}, {'name': 'BlackBerry', 'episode': 3, 'season': 1, 'date': '23-11-2023', 'country': 'Canada', 'channel': 'CBC', 'url': 'serie-15708-BlackBerry.html'}, {'name': 'Frasier (2023)', 'episode': 8, 'season': 1, 'date': '23-11-2023', 'country': 'Etats-Unis', 'channel': 'Paramount+', 'url': 'serie-15573-Frasier-(2023).html'}, {'name': 'Julia (2022)', 'episode': 4, 'season': 2, 'date': '23-11-2023', 'country': 'Etats-Unis', 'channel': 'HBO Max', 'url': 'serie-13897-Julia-(2022).html'}, {'name': 'Kingdom Business', 'episode': 4, 'season': 2, 'date': '23-11-2023', 'country': 'Etats-Unis', 'channel': 'BET+', 'url': 'serie-14195-Kingdom-Business.html'}, {'name': 'Master Crimes', 'episode': 5, 'season': 1, 'date': '23-11-2023', 'country': 'France', 'channel': 'TF1', 'url': 'serie-15690-Master-Crimes.html'}, {'name': 'Master Crimes', 'episode': 6, 'season': 1, 'date': '23-11-2023', 'country': 'France', 'channel': 'TF1', 'url': 'serie-15690-Master-Crimes.html'}, {'name': 'Rap Sh!t', 'episode': 4, 'season': 2, 'date': '23-11-2023', 'country': 'Etats-Unis', 'channel': 'HBO Max', 'url': 'serie-14321-Rap-Sht.html'}, {'name': 'The Vanishing Triangle', 'episode': 6, 'season': 1, 'date': '23-11-2023', 'country': 'Etats-Unis', 'channel': 'SundanceTV', 'url': 'serie-15619-The-Vanishing-Triangle.html'}, {'name': 'En helt vanlig familj', 'episode': 1, 'season': 1, 'date': '24-11-2023', 'country': 'Etats-Unis', 'channel': 'Netflix', 'url': 'serie-15698-En-helt-vanlig-familj.html'}, {'name': 'Fellow Travelers', 'episode': 5, 'season': 1, 'date': '24-11-2023', 'country': 'Etats-Unis', 'channel': 'Showtime', 'url': 'serie-15528-Fellow-Travelers.html'}, {'name': 'For All Mankind', 'episode': 3, 'season': 4, 'date': '24-11-2023', 'country': 'Etats-Unis', 'channel': 'Apple TV+', 'url': 'serie-9901-For-All-Mankind.html'}, {'name': 'Invincible', 'episode': 4, 'season': 2, 'date': '24-11-2023', 'country': 'Etats-Unis', 'channel': 'Prime Video', 'url': 'serie-12630-Invincible.html'}, {'name': 'Lessons In Chemistry', 'episode': 8, 'season': 1, 'date': '24-11-2023', 'country': 'Etats-Unis', 'channel': 'Apple TV+', 'url': 'serie-15376-Lessons-In-Chemistry.html'}, {'name': 'Monarch: Legacy of Monsters', 'episode': 3, 'season': 1, 'date': '24-11-2023', 'country': 'Etats-Unis', 'channel': 'Apple TV+', 'url': 'serie-15603-Monarch-Legacy-of-Monsters.html'}, {'name': 'My Demon', 'episode': 1, 'season': 1, 'date': '24-11-2023', 'country': 'Etats-Unis', 'channel': 'Netflix', 'url': 'serie-15705-My-Demon.html'}, {'name': 'NCIS: Sydney', 'episode': 3, 'season': 1, 'date': '24-11-2023', 'country': 'Etats-Unis', 'channel': 'Paramount+', 'url': 'serie-15620-NCIS-Sydney.html'}, {'name': 'Shining Vale', 'episode': 7, 'season': 2, 'date': '24-11-2023', 'country': 'Etats-Unis', 'channel': 'Starz', 'url': 'serie-13618-Shining-Vale.html'}, {'name': 'Solsidan', 'episode': 10, 'season': 8, 'date': '24-11-2023', 'country': 'Suède', 'channel': 'TV4', 'url': 'serie-2482-Solsidan.html'}, {'name': 'The Curse (2023)', 'episode': 3, 'season': 1, 'date': '24-11-2023', 'country': 'Etats-Unis', 'channel': 'Showtime on Demand', 'url': 'serie-15656-The-Curse-(2023).html'}, {'name': 'The Good Ship Murder', 'episode': 7, 'season': 1, 'date': '24-11-2023', 'country': 'Royaume-Uni', 'channel': 'Channel 5', 'url': 'serie-15666-The-Good-Ship-Murder.html'}, {'name': 'Transplant', 'episode': 8, 'season': 4, 'date': '24-11-2023', 'country': 'Canada', 'channel': 'CTV', 'url': 'serie-10635-Transplant.html'}, {'name': 'Doctor Who (2005)', 'episode': 0, 'season': 14, 'date': '25-11-2023', 'country': 'Royaume-Uni', 'channel': 'BBC One', 'url': 'serie-136-Doctor-Who-(2005).html'}, {'name': 'My Demon', 'episode': 2, 'season': 1, 'date': '25-11-2023', 'country': 'Etats-Unis', 'channel': 'Netflix', 'url': 'serie-15705-My-Demon.html'}, {'name': 'Beacon 23', 'episode': 3, 'season': 1, 'date': '26-11-2023', 'country': 'Etats-Unis', 'channel': 'Epix', 'url': 'serie-15648-Beacon-23.html'}, {'name': 'Rick and Morty', 'episode': 7, 'season': 7, 'date': '26-11-2023', 'country': 'Etats-Unis', 'channel': 'Adult Swim', 'url': 'serie-1628-Rick-and-Morty.html'}, {'name': 'The Gilded Age', 'episode': 5, 'season': 2, 'date': '26-11-2023', 'country': 'Etats-Unis', 'channel': 'HBO', 'url': 'serie-13620-The-Gilded-Age.html'}, {'name': 'A Murder at the End of the World', 'episode': 4, 'season': 1, 'date': '28-11-2023', 'country': 'Etats-Unis', 'channel': 'Hulu', 'url': 'serie-15464-A-Murder-at-the-End-of-the-World.html'}, {'name': 'Fargo', 'episode': 3, 'season': 5, 'date': '28-11-2023', 'country': 'Etats-Unis', 'channel': 'FX', 'url': 'serie-1694-Fargo.html'}, {'name': 'Found', 'episode': 9, 'season': 1, 'date': '28-11-2023', 'country': 'Etats-Unis', 'channel': 'NBC', 'url': 'serie-14723-Found.html'}, {'name': 'Black Cake', 'episode': 7, 'season': 1, 'date': '29-11-2023', 'country': 'Etats-Unis', 'channel': 'Hulu', 'url': 'serie-15614-Black-Cake.html'}, {'name': 'Magnum P.I. (2018)', 'episode': 19, 'season': 5, 'date': '29-11-2023', 'country': 'Etats-Unis', 'channel': 'NBC', 'url': 'serie-7010-Magnum-PI-(2018).html'}, {'name': 'Quantum Leap (2022)', 'episode': 9, 'season': 2, 'date': '29-11-2023', 'country': 'Etats-Unis', 'channel': 'NBC', 'url': 'serie-14394-Quantum-Leap-(2022).html'}, {'name': 'SurrealEstate', 'episode': 9, 'season': 2, 'date': '29-11-2023', 'country': 'Etats-Unis', 'channel': 'Syfy', 'url': 'serie-13085-SurrealEstate.html'}, {'name': 'The Artful Dodger', 'episode': 1, 'season': 1, 'date': '29-11-2023', 'country': 'Etats-Unis', 'channel': 'Disney+', 'url': 'serie-15577-The-Artful-Dodger.html'}, {'name': 'The Buccaneers (2023)', 'episode': 6, 'season': 1, 'date': '29-11-2023', 'country': 'Etats-Unis', 'channel': 'Apple TV+', 'url': 'serie-15529-The-Buccaneers-(2023).html'}, {'name': 'The Santa Clauses', 'episode': 5, 'season': 2, 'date': '29-11-2023', 'country': 'Etats-Unis', 'channel': 'Disney+', 'url': 'serie-14533-The-Santa-Clauses.html'}, {'name': 'Family Law (CAN)', 'episode': 1, 'season': 3, 'date': '30-11-2023', 'country': 'Canada', 'channel': 'Global', 'url': 'serie-12985-Family-Law-(CAN).html'}, {'name': 'Family Law (CAN)', 'episode': 2, 'season': 3, 'date': '30-11-2023', 'country': 'Canada', 'channel': 'Global', 'url': 'serie-12985-Family-Law-(CAN).html'}, {'name': 'Family Law (CAN)', 'episode': 3, 'season': 3, 'date': '30-11-2023', 'country': 'Canada', 'channel': 'Global', 'url': 'serie-12985-Family-Law-(CAN).html'}, {'name': 'Family Law (CAN)', 'episode': 4, 'season': 3, 'date': '30-11-2023', 'country': 'Canada', 'channel': 'Global', 'url': 'serie-12985-Family-Law-(CAN).html'}, {'name': 'Family Law (CAN)', 'episode': 5, 'season': 3, 'date': '30-11-2023', 'country': 'Canada', 'channel': 'Global', 'url': 'serie-12985-Family-Law-(CAN).html'}, {'name': 'Family Law (CAN)', 'episode': 6, 'season': 3, 'date': '30-11-2023', 'country': 'Canada', 'channel': 'Global', 'url': 'serie-12985-Family-Law-(CAN).html'}, {'name': 'Family Law (CAN)', 'episode': 7, 'season': 3, 'date': '30-11-2023', 'country': 'Canada', 'channel': 'Global', 'url': 'serie-12985-Family-Law-(CAN).html'}, {'name': 'Family Law (CAN)', 'episode': 8, 'season': 3, 'date': '30-11-2023', 'country': 'Canada', 'channel': 'Global', 'url': 'serie-12985-Family-Law-(CAN).html'}, {'name': 'Family Law (CAN)', 'episode': 9, 'season': 3, 'date': '30-11-2023', 'country': 'Canada', 'channel': 'Global', 'url': 'serie-12985-Family-Law-(CAN).html'}, {'name': 'Family Law (CAN)', 'episode': 10, 'season': 3, 'date': '30-11-2023', 'country': 'Canada', 'channel': 'Global', 'url': 'serie-12985-Family-Law-(CAN).html'}, {'name': 'Frasier (2023)', 'episode': 9, 'season': 1, 'date': '30-11-2023', 'country': 'Etats-Unis', 'channel': 'Paramount+', 'url': 'serie-15573-Frasier-(2023).html'}, {'name': 'Julia (2022)', 'episode': 5, 'season': 2, 'date': '30-11-2023', 'country': 'Etats-Unis', 'channel': 'HBO Max', 'url': 'serie-13897-Julia-(2022).html'}, {'name': 'Obliterated', 'episode': 1, 'season': 1, 'date': '30-11-2023', 'country': 'Etats-Unis', 'channel': 'Netflix', 'url': 'serie-15575-Obliterated.html'}, {'name': 'Obliterated', 'episode': 2, 'season': 1, 'date': '30-11-2023', 'country': 'Etats-Unis', 'channel': 'Netflix', 'url': 'serie-15575-Obliterated.html'}, {'name': 'Obliterated', 'episode': 3, 'season': 1, 'date': '30-11-2023', 'country': 'Etats-Unis', 'channel': 'Netflix', 'url': 'serie-15575-Obliterated.html'}, {'name': 'Obliterated', 'episode': 4, 'season': 1, 'date': '30-11-2023', 'country': 'Etats-Unis', 'channel': 'Netflix', 'url': 'serie-15575-Obliterated.html'}, {'name': 'Obliterated', 'episode': 5, 'season': 1, 'date': '30-11-2023', 'country': 'Etats-Unis', 'channel': 'Netflix', 'url': 'serie-15575-Obliterated.html'}, {'name': 'Obliterated', 'episode': 6, 'season': 1, 'date': '30-11-2023', 'country': 'Etats-Unis', 'channel': 'Netflix', 'url': 'serie-15575-Obliterated.html'}, {'name': 'Obliterated', 'episode': 7, 'season': 1, 'date': '30-11-2023', 'country': 'Etats-Unis', 'channel': 'Netflix', 'url': 'serie-15575-Obliterated.html'}, {'name': 'Obliterated', 'episode': 8, 'season': 1, 'date': '30-11-2023', 'country': 'Etats-Unis', 'channel': 'Netflix', 'url': 'serie-15575-Obliterated.html'}, {'name': 'Rap Sh!t', 'episode': 5, 'season': 2, 'date': '30-11-2023', 'country': 'Etats-Unis', 'channel': 'HBO Max', 'url': 'serie-14321-Rap-Sht.html'}, {'name': 'Virgin River', 'episode': 11, 'season': 5, 'date': '30-11-2023', 'country': 'Etats-Unis', 'channel': 'Netflix', 'url': 'serie-10239-Virgin-River.html'}, {'name': 'Virgin River', 'episode': 12, 'season': 5, 'date': '30-11-2023', 'country': 'Etats-Unis', 'channel': 'Netflix', 'url': 'serie-10239-Virgin-River.html'}]\n"
     ]
    }
   ],
   "source": [
    "import requests\n",
    "from bs4 import BeautifulSoup\n",
    "\n",
    "\n",
    "def strToInt(str):\n",
    "  try:\n",
    "    return int(str)\n",
    "  except:\n",
    "    return 0\n",
    "\n",
    "\n",
    "def elementToObject(element, date):\n",
    "  episodeNameElements = element.findAll('a')\n",
    "  seasonAndEpisode = episodeNameElements[1].text.split('.')\n",
    "  channelElement = element.find_previous_sibling('img')\n",
    "  contryElements = channelElement.find_previous_sibling('img')\n",
    "\n",
    "  object = {\n",
    "    'name': episodeNameElements[0].text,\n",
    "    'episode': strToInt(seasonAndEpisode[1]),\n",
    "    'season': strToInt(seasonAndEpisode[0]),\n",
    "    'date': date,\n",
    "    'country': contryElements.get('alt'),\n",
    "    'channel': channelElement.get('alt'),\n",
    "    'url': episodeNameElements[0].get('href')\n",
    "  }\n",
    "  return object\n",
    "\n",
    "\n",
    "url = 'https://www.spin-off.fr/calendrier_des_series.html'\n",
    "response = requests.get(url)\n",
    "content = response.content\n",
    "page = BeautifulSoup(content, 'html')\n",
    "currentMonth = page.find_all('td', class_=['floatleftmobile td_jour', 'floatleftmobile td_jour td_jourcourant'])\n",
    "\n",
    "\n",
    "episodes = []\n",
    "for day in currentMonth:\n",
    "  dateElement = day.find('div', class_=['div_jour', 'div_jourcourant fond_degrade_v4'])\n",
    "  if dateElement:\n",
    "    date = dateElement.get('id').split('_')[1]\n",
    "    episodesElements = day.find_all('span', class_=['calendrier_episodes'])\n",
    "    for episodeElement in episodesElements:\n",
    "      episodes.append(elementToObject(episodeElement, date))\n",
    "\n",
    "print(episodes)"
   ]
  },
  {
   "cell_type": "markdown",
   "metadata": {},
   "source": [
    "## Fichiers"
   ]
  },
  {
   "cell_type": "code",
   "execution_count": null,
   "metadata": {},
   "outputs": [],
   "source": [
    "def objectToStringforCsv(episode):\n",
    "  return f'{episode['name']},{episode['episode']},{episode['season']},{episode['date']},{episode['country']},{episode['channel']},{episode['url']}\\n'\n",
    "\n",
    "strEpisodes = [\n",
    "  objectToStringforCsv(episode)\n",
    "  for episode in episodes\n",
    "]\n",
    "\n",
    "with open('./data/files/episodes.csv', mode='w+', encoding='utf-8') as file:\n",
    "  file.write(''.join(strEpisodes))"
   ]
  },
  {
   "cell_type": "code",
   "execution_count": 32,
   "metadata": {},
   "outputs": [
    {
     "name": "stdout",
     "output_type": "stream",
     "text": [
      "('str', 'int', 'int', 'str', 'str', 'str', 'str')\n"
     ]
    }
   ],
   "source": [
    "def lineToTuples(line):\n",
    "  values = line.split(',')\n",
    "  print(values)\n",
    "\n",
    "# la method \"arrayToEpisode\" permet de récupérer les données depuis le fichier CSV plutôt que de refaire le scrapping du site.\n",
    "def arrayToEpisode(values):\n",
    "  return {\n",
    "    'name': values[0],\n",
    "    'episode': int(values[1]),\n",
    "    'season': int(values[2]),\n",
    "    'date': values[3],\n",
    "    'country': values[4],\n",
    "    'channel': values[5],\n",
    "    'url': values[6]\n",
    "  }\n",
    "\n",
    "typeTuples = []\n",
    "episodes = []\n",
    "with open('./data/files/episodes.csv', 'r', encoding='utf-8') as file:\n",
    "  for line in file:\n",
    "    types = []\n",
    "    values = line.strip().split(',')\n",
    "    episodes.append(arrayToEpisode(values))\n",
    "    for value in values:\n",
    "      try:\n",
    "        value = int(value)\n",
    "      except:\n",
    "        value = value\n",
    "      types.append(type(value).__name__)\n",
    "    typeTuples.append(tuple(types))\n",
    "\n",
    "print(typeTuples[0])"
   ]
  },
  {
   "cell_type": "markdown",
   "metadata": {},
   "source": [
    "## SQL [1/2]"
   ]
  },
  {
   "cell_type": "code",
   "execution_count": 11,
   "metadata": {},
   "outputs": [],
   "source": [
    "import sqlite3\n",
    "\n",
    "db = sqlite3.connect('./data/databases/database.db')\n",
    "cursor = db.cursor()\n",
    "\n",
    "tuples = [\n",
    "  tuple(episode.values())\n",
    "  for episode in episodes\n",
    "]\n",
    "\n",
    "req = 'insert into Episode (name, episode, season, date, country, channel, url) values (?, ?, ?, ?, ?, ?, ?)'\n",
    "cursor.executemany(req, tuples) # /!\\ Ne pas relancer cette partie du code si les données sont déjà présente dans la base\n",
    "db.commit()\n",
    "db.close()"
   ]
  },
  {
   "cell_type": "markdown",
   "metadata": {},
   "source": [
    "## Algorithmie [1/2]"
   ]
  },
  {
   "cell_type": "code",
   "execution_count": 6,
   "metadata": {},
   "outputs": [
    {
     "name": "stdout",
     "output_type": "stream",
     "text": [
      "[('Netflix', 75), ('Disney+', 33), ('Apple TV+', 18)]\n",
      "[('Etats-Unis', 264), ('Canada', 37), ('France', 21)]\n"
     ]
    }
   ],
   "source": [
    "import sqlite3\n",
    "\n",
    "def countBy(key):\n",
    "  db = sqlite3.connect('./data/databases/database.db')\n",
    "  cursor = db.cursor()\n",
    "\n",
    "  req = f'''\n",
    "    select {key}, count(*) as length\n",
    "    from Episode\n",
    "    group by {key}\n",
    "    order by length desc\n",
    "    limit 3\n",
    "  '''\n",
    "\n",
    "  res = cursor.execute(req).fetchall()\n",
    "  db.commit()\n",
    "  db.close()\n",
    "\n",
    "  return res\n",
    "\n",
    "\n",
    "\n",
    "print(countBy('channel'))\n",
    "print(countBy('country'))"
   ]
  },
  {
   "cell_type": "code",
   "execution_count": 33,
   "metadata": {},
   "outputs": [
    {
     "name": "stdout",
     "output_type": "stream",
     "text": [
      "{'the': 19, 'of': 4, 'all': 4, '(2023)': 4, 'de': 3, 'murder': 2, 'at': 2, 'and': 2, 'legacy': 2, 'family': 2, 'tout': 2, '(2022)': 2, 'la': 2, 'un': 2, '4': 1, 'estrellas': 1, 'a': 1, 'end': 1, 'world': 1, 'creatures': 1, 'great': 1, 'small': 1, '(2020)': 1, 'rise': 1, 'light': 1, 'we': 1, 'cannot': 1, 'see': 1, 'anderson': 1, 'spider': 1, 'silva': 1, 'moment': 1, '(ci': 1, 'shi': 1, 'ci': 1, 'ke)': 1, 'beacon': 1, '23': 1, 'billy': 1, 'kid': 1, 'black': 1, 'cake': 1, 'blackberry': 1, 'blanca': 1, 'blue': 1, 'eye': 1, 'samurai': 1, \"bob's\": 1, 'burgers': 1, 'boomer': 1, 'bosch:': 1, 'bros': 1, 'children': 1, 'ruin': 1, 'everything': 1, 'chucky': 1, \"cooper's\": 1, 'bar': 1, 'culprits': 1, 'dna': 1, 'do': 1, 'crime': 1, 'daily': 1, 'dose': 1, 'sunshine': 1, 'demain': 1, 'nous': 1, 'appartient': 1, 'deutsches': 1, 'haus': 1, 'doctor': 1, 'who': 1, '(2005)': 1, 'doom': 1, 'patrol': 1, 'en': 1, 'helt': 1, 'vanlig': 1, 'familj': 1, 'entre': 1, 'tierras': 1, 'guy': 1, 'law': 1, '(can)': 1, 'fargo': 1, 'fear': 1, 'walking': 1, 'dead': 1, 'fellow': 1, 'travelers': 1, 'ferry': 1, '-': 1, 'serie': 1, 'for': 1, 'mankind': 1, 'found': 1, 'frasier': 1, 'gadis': 1, 'kretek': 1, 'gen': 1, 'v': 1, 'goosebumps': 1, 'heartbeats': 1, 'heartland': 1, '(ca)': 1, 'hotel': 1, 'mondial': 1, 'hudson': 1, '&': 1, 'rex': 1, 'i': 1, 'leoni': 1, 'di': 1, 'sicilia': 1, 'ici': 1, 'commence': 1, 'informacja': 1, 'zwrotna': 1, 'inspirez': 1, 'expirez': 1, 'invincible': 1, 'julia': 1, 'kingdom': 1, 'business': 1, 'krapopolis': 1, 'lt-21': 1, 'mesias': 1, 'lawmen:': 1, 'bass': 1, 'reeves': 1, 'le': 1, 'voyageur': 1, 'les': 1, 'mystères': 1, \"l'amour\": 1, 'lessons': 1, 'in': 1, 'chemistry': 1, 'loki': 1, 'magnum': 1, 'p.i.': 1, '(2018)': 1, 'master': 1, 'crimes': 1, 'monarch:': 1, 'monsters': 1, 'my': 1, 'demon': 1, 'ncis:': 1, 'sydney': 1, 'obliterated': 1, 'ojitos': 1, 'huevo': 1, 'power': 1, 'book': 1, 'iv:': 1, 'force': 1, 'quantum': 1, 'leap': 1, 'rap': 1, 'sh!t': 1, 'rick': 1, 'morty': 1, 'robyn': 1, 'hood': 1, 'romancero': 1, 'soko': 1, 'leipzig': 1, 'sagrada': 1, 'familia': 1, 'sahsiyet': 1, 'shetland': 1, 'shining': 1, 'vale': 1, 'sistas': 1, 'skymed': 1, 'solsidan': 1, 'sort': 1, 'star': 1, 'trek:': 1, 'lower': 1, 'decks': 1, 'suburræterna': 1, 'surrealestate': 1, 'terror': 1, 'lake': 1, 'drive': 1, 'terzi': 1, 'artful': 1, 'dodger': 1, 'buccaneers': 1, 'crown': 1, 'curse': 1, 'gilded': 1, 'age': 1, 'good': 1, 'ship': 1, 'lazarus': 1, 'project': 1, 'morning': 1, 'show': 1, 'oval': 1, 'santa': 1, 'clauses': 1, 'simpsons': 1, 'vanishing': 1, 'triangle': 1, 'winter': 1, 'king': 1, 'va': 1, 'bien': 1, 'transplant': 1, 'si': 1, 'grand': 1, 'soleil': 1, 'professore': 1, 'upload': 1, 'vigilante': 1, 'virgin': 1, 'river': 1, 'yellowstone': 1, 'young': 1, 'dylan': 1, 'à': 1, 'carte': 1}\n"
     ]
    }
   ],
   "source": [
    "import sqlite3\n",
    "\n",
    "db = sqlite3.connect('./data/databases/database.db')\n",
    "cursor = db.cursor()\n",
    "\n",
    "req = '''\n",
    "  select name\n",
    "  from Episode\n",
    "  group by name\n",
    "'''\n",
    "\n",
    "res = cursor.execute(req).fetchall()\n",
    "db.commit()\n",
    "db.close()\n",
    "\n",
    "counter = {}\n",
    "\n",
    "for nameInArray in res:\n",
    "  name = nameInArray[0]\n",
    "  for word in name.split(' '):\n",
    "    word = word.lower()\n",
    "    try:\n",
    "      counter[word] += 1\n",
    "    except:\n",
    "      counter[word] = 1\n",
    "\n",
    "sortedCounter = dict(sorted(counter.items(), key=lambda item: item[1], reverse=True))\n",
    "\n",
    "print(sortedCounter)"
   ]
  },
  {
   "cell_type": "markdown",
   "metadata": {},
   "source": [
    "## Scraping [2/2]"
   ]
  },
  {
   "cell_type": "code",
   "execution_count": 31,
   "metadata": {},
   "outputs": [
    {
     "name": "stdout",
     "output_type": "stream",
     "text": [
      "[]\n"
     ]
    }
   ],
   "source": [
    "import time\n",
    "import requests\n",
    "from bs4 import BeautifulSoup\n",
    "\n",
    "# for episode in episodes:\n",
    "for index in range(10):\n",
    "  episode = episodes[index]\n",
    "  episodeName = episode\n",
    "  url = f'https://www.spin-off.fr/{episode['url']}'\n",
    "\n",
    "response = requests.get(url)\n",
    "content = response.content\n",
    "page = BeautifulSoup(content, 'html')\n",
    "currentMonth = page.find_all('table', id_='series_liste_saisons')\n",
    "print(currentMonth)"
   ]
  },
  {
   "cell_type": "markdown",
   "metadata": {},
   "source": [
    "## SQL [2/2]"
   ]
  },
  {
   "cell_type": "code",
   "execution_count": null,
   "metadata": {},
   "outputs": [],
   "source": []
  },
  {
   "cell_type": "markdown",
   "metadata": {},
   "source": [
    "## Algorithmie [2/2]"
   ]
  },
  {
   "cell_type": "code",
   "execution_count": null,
   "metadata": {},
   "outputs": [],
   "source": []
  },
  {
   "cell_type": "markdown",
   "metadata": {},
   "source": [
    "## Orchestration"
   ]
  },
  {
   "cell_type": "code",
   "execution_count": null,
   "metadata": {},
   "outputs": [],
   "source": []
  }
 ],
 "metadata": {
  "kernelspec": {
   "display_name": "Python 3",
   "language": "python",
   "name": "python3"
  },
  "language_info": {
   "codemirror_mode": {
    "name": "ipython",
    "version": 3
   },
   "file_extension": ".py",
   "mimetype": "text/x-python",
   "name": "python",
   "nbconvert_exporter": "python",
   "pygments_lexer": "ipython3",
   "version": "3.12.0"
  }
 },
 "nbformat": 4,
 "nbformat_minor": 2
}
